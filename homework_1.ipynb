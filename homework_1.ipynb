{
 "cells": [
  {
   "cell_type": "code",
   "execution_count": 20,
   "metadata": {
    "collapsed": false
   },
   "outputs": [
    {
     "name": "stdout",
     "output_type": "stream",
     "text": [
      "done\n",
      "243\n"
     ]
    }
   ],
   "source": [
    "from random import randint\n",
    "import matplotlib.pyplot as plt\n",
    "import matplotlib\n",
    "import pylab\n",
    "# class to define relation between p and e ranking . Total of 3^5*3^5 documents were generated \n",
    "class Relation:\n",
    "    def __init__(self,p_arr):\n",
    "        self.p_arr=p_arr\n",
    "        self.e_arr=[]\n",
    "    def append_e(self,e_arr):\n",
    "        self.e_arr.append(e_arr)\n",
    "        \n",
    "def create_temp_arr():\n",
    "    temp=[]\n",
    "    for ind in range(0,5):\n",
    "        index=randint(0,2)\n",
    "        ##val=arr[index]\n",
    "        temp.append(index)\n",
    "    return temp\n",
    "arr=[\"N\",\"R\",\"HR\"]\n",
    "rel_arr=[]\n",
    "for i in range(0,243):\n",
    "    relation=Relation(create_temp_arr())\n",
    "    for j in range(0,243):\n",
    "        relation.append_e(create_temp_arr())\n",
    "    rel_arr.append(relation)\n",
    "print(\"done\")\n",
    "print(len(rel_arr))"
   ]
  },
  {
   "cell_type": "code",
   "execution_count": 17,
   "metadata": {
    "collapsed": false
   },
   "outputs": [
    {
     "name": "stdout",
     "output_type": "stream",
     "text": [
      "[0.4, 0.16666666666666666, 1.0, 0.16666666666666666, 0.5555555555555555, 0.3333333333333333, 0.16666666666666666, 1.0, 0.16666666666666666, 1.0, 0.38888888888888884, 0.38888888888888884, 0.38888888888888884, 0.16666666666666666, 0.3333333333333333, 0.38888888888888884, 0.38888888888888884, 0.6666666666666666, 0.1111111111111111, 0.5555555555555555, 0.3333333333333333, 1.0, 0.6666666666666666, 1.0, 0.3333333333333333, 0.38888888888888884, 0.16666666666666666, 1.0, 1.0, 1.0, 0.6666666666666666, 0.3333333333333333, 0.6666666666666666, 1.0, 1.0, 0.38888888888888884, 0.38888888888888884, 1.0, 0.3333333333333333, 1.0, 0.16666666666666666, 0.5555555555555555, 0.5555555555555555, 0.38888888888888884, 0.16666666666666666, 1.0, 0.1111111111111111, 0.16666666666666666, 0.3333333333333333, 0.5555555555555555, 0.1111111111111111, 1.0, 0.38888888888888884, 0.6666666666666666, 0.5555555555555555, 0.38888888888888884, 1.0, 0.16666666666666666, 0.6666666666666666, 0.6666666666666666, 0.16666666666666666, 0.3333333333333333, 0.16666666666666666, 1.0, 0.5555555555555555, 1.0, 1.0, 0.38888888888888884, 0.1111111111111111, 1.0, 0.5555555555555555, 0.16666666666666666, 0.1111111111111111, 0.6666666666666666, 0.5555555555555555, 0.3333333333333333, 0.6666666666666666, 0.5555555555555555, 0.6666666666666666, 0.6666666666666666, 0.6666666666666666, 0.1111111111111111, 1.0, 1.0, 1.0, 0.6666666666666666, 0.16666666666666666, 0.6666666666666666, 0.6666666666666666, 0.5555555555555555, 0.1111111111111111, 0.16666666666666666, 1.0, 0.38888888888888884, 1.0, 0.5555555555555555, 1.0, 0.38888888888888884, 0.16666666666666666, 0.5555555555555555, 0.16666666666666666, 0.38888888888888884, 0.38888888888888884, 1.0, 0.3333333333333333, 0.1111111111111111, 1.0, 0.1111111111111111, 1.0, 1.0, 0.6666666666666666, 1.0, 0.38888888888888884, 0.6666666666666666, 0.5555555555555555, 0.1111111111111111, 1.0, 1.0, 0.16666666666666666, 0.5555555555555555, 1.0, 0.3333333333333333, 0.3333333333333333, 0.1111111111111111, 0.38888888888888884, 1.0, 1.0, 1.0, 0.38888888888888884, 0.16666666666666666, 0.38888888888888884, 0.38888888888888884, 0.16666666666666666, 0.5555555555555555, 1.0, 0.6666666666666666, 0.38888888888888884, 0.3333333333333333, 1.0, 0.1111111111111111, 0.38888888888888884, 1.0, 1.0, 0.1111111111111111, 0.3333333333333333, 0.5555555555555555, 0.38888888888888884, 1.0, 0.6666666666666666, 0.6666666666666666, 0.16666666666666666, 0.38888888888888884, 1.0, 0.38888888888888884, 0.1111111111111111, 1.0, 0.1111111111111111, 1.0, 0.38888888888888884, 1.0, 1.0, 0.6666666666666666, 0.38888888888888884, 0.5555555555555555, 0.38888888888888884, 0.5555555555555555, 0.5555555555555555, 0.16666666666666666, 0.5555555555555555, 0.3333333333333333, 0.6666666666666666, 1.0, 0.1111111111111111, 0.38888888888888884, 1.0, 0.6666666666666666, 0.38888888888888884, 0.6666666666666666, 0.6666666666666666, 0.6666666666666666, 1.0, 0.6666666666666666, 0.1111111111111111, 0.3333333333333333, 0.6666666666666666, 0.38888888888888884, 1.0, 0.6666666666666666, 0.5555555555555555, 1.0, 1.0, 0.16666666666666666, 0.3333333333333333, 0.6666666666666666, 1.0, 1.0, 0.5555555555555555, 0.1111111111111111, 0.1111111111111111, 0.1111111111111111, 1.0, 1.0, 0.38888888888888884, 0.38888888888888884, 0.1111111111111111, 0.6666666666666666, 0.5555555555555555, 1.0, 0.6666666666666666, 0.3333333333333333, 0.5555555555555555, 0.6666666666666666, 0.38888888888888884, 0.38888888888888884, 1.0, 0.3333333333333333, 0.38888888888888884, 0.38888888888888884, 1.0, 0.38888888888888884, 0.16666666666666666, 0.6666666666666666, 0.38888888888888884, 0.6666666666666666, 0.6666666666666666, 1.0, 0.38888888888888884, 1.0, 0.1111111111111111, 0.1111111111111111, 0.3333333333333333, 1.0]\n"
     ]
    }
   ],
   "source": [
    "# class to implement binary evaluation . precision , recall and err\n",
    "class BinaryEvaluation:\n",
    "    # construcor takes the argument of for how many ranks we want to calculate \n",
    "    def __init__(self,k):\n",
    "        self.rank_k=k\n",
    "    # index is for which index of p and e we want to calculate    \n",
    "    def calculate_precision(self,index):\n",
    "        k=self.rank_k\n",
    "        relation=rel_arr[index]\n",
    "        p_arr=relation.p_arr\n",
    "        e_arr=relation.e_arr\n",
    "        pre_arr=[]\n",
    "        rel_doc=self.calc_relevant_document(p_arr,self.rank_k)\n",
    "        precison=rel_doc/k\n",
    "        pre_arr.append(precison)\n",
    "        for i in range(0,243):\n",
    "            rel_doc=self.calc_relevant_document(e_arr[i],self.rank_k)\n",
    "            precison=rel_doc/k\n",
    "            pre_arr.append(precison)\n",
    "        return pre_arr\n",
    "    # to calculate recall for index\n",
    "    def calc_recall(self,index):\n",
    "        k=self.rank_k\n",
    "        relation=rel_arr[index]\n",
    "        p_arr=relation.p_arr\n",
    "        e_arr=relation.e_arr\n",
    "        pre_arr=[]\n",
    "        rel_doc=self.calc_relevant_document(p_arr,self.rank_k)\n",
    "        tot_rel=self.calc_relevant_document(p_arr,0)\n",
    "        if(tot_rel==0):\n",
    "            tot_rel=1\n",
    "        precison=rel_doc/tot_rel\n",
    "        pre_arr.append(precison)\n",
    "        for i in range(0,243):\n",
    "            rel_doc=self.calc_relevant_document(e_arr[i],self.rank_k)\n",
    "            tot_rel=self.calc_relevant_document(e_arr[i],0)\n",
    "            if(tot_rel==0):\n",
    "                tot_rel=1\n",
    "            precison=rel_doc/tot_rel\n",
    "            pre_arr.append(precison)\n",
    "        return pre_arr\n",
    "    # internal method to calcuate total relevant documents\n",
    "    def calc_relevant_document(self,arr,rank_k):\n",
    "        tot=0\n",
    "        max_index=len(arr)\n",
    "        if(rank_k>0):\n",
    "            max_index=rank_k\n",
    "        for i in range(0,max_index):\n",
    "            if(arr[i]==1 or arr[i]==2):\n",
    "                tot=tot+1\n",
    "        return tot\n",
    "    # to calcuate avergae precison\n",
    "    def avg_precision(self,index):\n",
    "        k=self.rank_k\n",
    "        relation=rel_arr[index]\n",
    "        p_arr=relation.p_arr\n",
    "        e_arr=relation.e_arr\n",
    "        prr_sum=0\n",
    "        avg_arr=[]\n",
    "        for i in range(0,k):\n",
    "            if(p_arr[i]==1 or p_arr[i]==2):\n",
    "                rel_doc=self.calc_relevant_document(p_arr,i+1)\n",
    "                pre=rel_doc/(i+1)\n",
    "                prr_sum=prr_sum+pre\n",
    "        prr_avg_pre=prr_sum/5\n",
    "        if(prr_avg_pre>0):\n",
    "            avg_arr.append(prr_avg_pre)\n",
    "        for i in range(0,243):\n",
    "            e_temp_arr=e_arr[i]\n",
    "            prr_sum=0\n",
    "            for i in range(0,k):\n",
    "                if(e_temp_arr[i]==1 or e_temp_arr[i]==2):\n",
    "                    rel_doc=self.calc_relevant_document(e_temp_arr,i+1)\n",
    "                    pre=rel_doc/(i+1)\n",
    "                    prr_sum=prr_sum+pre\n",
    "            if(prr_sum>0.0):\n",
    "                prr_avg_pre=prr_sum/k\n",
    "                avg_arr.append(prr_avg_pre)\n",
    "        return avg_arr\n",
    "binary=BinaryEvaluation(3)\n",
    "print(binary.avg_precision(10))        "
   ]
  },
  {
   "cell_type": "code",
   "execution_count": 18,
   "metadata": {
    "collapsed": false
   },
   "outputs": [
    {
     "name": "stdout",
     "output_type": "stream",
     "text": [
      "244\n",
      "244\n"
     ]
    }
   ],
   "source": [
    "import math\n",
    "# class to calcualte ndcg and err based on the relevance of document . \n",
    "# 0- means document not relevant \n",
    "# 1 - means document relevant\n",
    "# 2 means document highely relevant \n",
    "# based on the values 0,1 and 2 values are calculated for the algorithm  \n",
    "class Multigraded:\n",
    "    def __init__(self,rank_k):\n",
    "        self.rank_k=rank_k\n",
    "        self.relv_scale=[0,1,2]\n",
    "    def find_dcg(self,arr):\n",
    "        tot_dcg=0\n",
    "        for i in range(0,self.rank_k):\n",
    "            tot_dcg=tot_dcg+(math.pow(2,arr[i])-1)/(math.log(i+2,2))\n",
    "        return tot_dcg\n",
    "    # function to find best dcg in the whole combilation of simulation . The normalization will be done based on the\n",
    "    # output value of it \n",
    "    def find_best_dcg(self):\n",
    "        best_dcg=0\n",
    "        for i in range(0,243):\n",
    "            relation=rel_arr[i]\n",
    "            p_arr=relation.p_arr\n",
    "            e_arr=relation.e_arr\n",
    "            temp_dcg=self.find_dcg(p_arr)\n",
    "            if(temp_dcg>best_dcg):\n",
    "                best_dcg=temp_dcg\n",
    "            for j in range(0,243):\n",
    "                e_temp_arr=e_arr[j]\n",
    "                temp_dcg=self.find_dcg(e_temp_arr)\n",
    "                if(temp_dcg>best_dcg):\n",
    "                    best_dcg=temp_dcg\n",
    "        self.best_dcg=best_dcg\n",
    "        return best_dcg\n",
    "    # function to find ndcg for index\n",
    "    def find_ndcg(self,index):\n",
    "        ndcg=[]\n",
    "        relation=rel_arr[index]\n",
    "        p_arr=relation.p_arr\n",
    "        e_arr=relation.e_arr\n",
    "        temp_dcg=self.find_dcg(p_arr)/self.best_dcg\n",
    "        ndcg.append(temp_dcg)\n",
    "        for j in range(0,243):\n",
    "            e_temp_arr=e_arr[j]\n",
    "            temp_dcg=self.find_dcg(e_temp_arr)/self.best_dcg\n",
    "            ndcg.append(temp_dcg)\n",
    "        return ndcg\n",
    "    # function  to find ERR for a index\n",
    "    def err(self,index):\n",
    "        relation=rel_arr[index]\n",
    "        p_arr=relation.p_arr\n",
    "        e_arr=relation.e_arr\n",
    "        err_k=0\n",
    "        err_arr=[]\n",
    "        for i in range(0,self.rank_k):\n",
    "            prod_val=1\n",
    "            for j in range(0,i):\n",
    "                prod_val=prod_val*(1-(math.pow(2,p_arr[j]-1/4)))\n",
    "            err_k=err_k+((math.pow(2,p_arr[i]-1/4)*prod_val)/(i+1))\n",
    "        err_arr.append(err_k)\n",
    "        for k in range(0,243):\n",
    "            e_temp=e_arr[k]\n",
    "            err_k=0\n",
    "            for i in range(0,self.rank_k):\n",
    "                prod_val=1\n",
    "                for j in range(0,i):\n",
    "                    prod_val=prod_val*(1-(math.pow(2,e_temp[i]-1/4)))\n",
    "                err_k=err_k+((math.pow(2,e_temp[i]-1/4)*prod_val)/(i+1))\n",
    "            err_arr.append(err_k)\n",
    "        return err_arr\n",
    "multi=Multigraded(3)\n",
    "multi.find_best_dcg()\n",
    "print(len(multi.find_ndcg(5)))\n",
    "print(len(multi.err(10)))"
   ]
  },
  {
   "cell_type": "code",
   "execution_count": 19,
   "metadata": {
    "collapsed": false
   },
   "outputs": [
    {
     "name": "stdout",
     "output_type": "stream",
     "text": [
      "[0.6925409232710575]\n",
      "[0.468764757471497]\n",
      "[0.5768063145112325]\n"
     ]
    }
   ],
   "source": [
    "# class to evaluate the offline results . calculate the total avergae precison, ndcg and err \n",
    "class OfflineResults:\n",
    "    # calculates the e proption wins for average_precison\n",
    "    def delta_measure_avg_pre(self):\n",
    "        count=0\n",
    "        tot_count=0\n",
    "        for i in range(0,243):\n",
    "            data=binary.avg_precision(i)\n",
    "            tot_count=tot_count+len(data)\n",
    "            p_value=data[0]\n",
    "            for j in range(1,len(data)):\n",
    "                e_val=data[j]\n",
    "                if(e_val>p_value):\n",
    "                    count=count+1\n",
    "        return (count/tot_count)\n",
    "    # calculates the e proption wins for ndcg\n",
    "    def delta_measure_ndgc(self):\n",
    "        count=0\n",
    "        tot_count=0\n",
    "        for i in range(0,243):\n",
    "            data=multi.find_ndcg(i)\n",
    "            tot_count=tot_count+len(data)\n",
    "            p_value=data[0]\n",
    "            for j in range(1,len(data)):\n",
    "                e_val=data[j]\n",
    "                if(e_val>p_value):\n",
    "                    count=count+1\n",
    "        return(count/tot_count)\n",
    "    # calculates the e proption wins for err\n",
    "    def delta_measure_err(self):\n",
    "        count=0\n",
    "        tot_count=0\n",
    "        for i in range(0,243):\n",
    "            data=multi.err(i)\n",
    "            tot_count=tot_count+len(data)\n",
    "            p_value=data[0]\n",
    "            for j in range(1,len(data)):\n",
    "                e_val=data[j]\n",
    "                if(e_val>p_value):\n",
    "                    count=count+1\n",
    "        return (count/tot_count)\n",
    "offlineResults=OfflineResults()\n",
    "avg_pre=[]\n",
    "ndgc=[]\n",
    "err=[]\n",
    "avg_pre.append(offlineResults.delta_measure_avg_pre())\n",
    "ndgc.append(offlineResults.delta_measure_ndgc())\n",
    "err.append(offlineResults.delta_measure_err())\n",
    "print(avg_pre)\n",
    "print(ndgc)\n",
    "print(err)\n"
   ]
  },
  {
   "cell_type": "code",
   "execution_count": 5,
   "metadata": {
    "collapsed": false
   },
   "outputs": [
    {
     "data": {
      "text/plain": [
       "['P', 'E', 'E', 'P', 'E', 'P', 'P', 'E', 'E', 'P']"
      ]
     },
     "execution_count": 5,
     "metadata": {},
     "output_type": "execute_result"
    }
   ],
   "source": [
    "# class to hold the structure data , for each document the relevance and algo from which it came\n",
    "class RankingData:\n",
    "    def __init__(self,relevance,algo):\n",
    "        self.relevance=relevance\n",
    "        self.algo=algo\n",
    "# class to implement team draft interleaving algorithm \n",
    "class TeamDraft:\n",
    "    # constructor rank_merge is the number of ranks we want to merge\n",
    "    def __init__(self,rank_merge):\n",
    "        self.rank_merge=rank_merge\n",
    "    # merge e and p based on the index given\n",
    "    def merge_algo(self,index):\n",
    "        merge_algo=[]\n",
    "        relation=rel_arr[index]\n",
    "        p_arr=relation.p_arr\n",
    "        e_arr=relation.e_arr\n",
    "        e_index=randint(0,242)\n",
    "        e_temp=e_arr[e_index]\n",
    "        count=0\n",
    "        counter_p=0\n",
    "        counter_e=0\n",
    "        while count<self.rank_merge:\n",
    "            index=randint(0,1)\n",
    "            if(index==0):\n",
    "                relv_docu=p_arr[counter_p]\n",
    "                counter_p=counter_p+1\n",
    "                rankingData=RankingData(relv_docu,\"P\")\n",
    "                merge_algo.append(rankingData)\n",
    "            else:\n",
    "                relv_docu=e_temp[counter_e]\n",
    "                counter_e=counter_e+1\n",
    "                rankingData=RankingData(relv_docu,\"E\")\n",
    "                merge_algo.append(rankingData)\n",
    "            count=count+1\n",
    "            if(count<self.rank_merge):\n",
    "                if(index==0):\n",
    "                    relv_docu=e_temp[counter_e]\n",
    "                    counter_e=counter_e+1\n",
    "                    rankingData=RankingData(relv_docu,\"E\")\n",
    "                    merge_algo.append(rankingData)\n",
    "                else:\n",
    "                    relv_docu=p_arr[counter_p]\n",
    "                    counter_p=counter_p+1\n",
    "                    rankingData=RankingData(relv_docu,\"P\")\n",
    "                    merge_algo.append(rankingData)\n",
    "                count=count+1\n",
    "        return merge_algo\n",
    "    # function to find algos based on the clicks of the documents . click_arr->click arr of user \n",
    "    # algo_merge_arr-> merge list of 2 algorithms \n",
    "    def find_algo_clicks(self,click_arr,algo_merge_arr):\n",
    "        algo_arr=[]\n",
    "        for i in range(0,len(click_arr)):\n",
    "            index=click_arr[i]\n",
    "            rankingData=algo_merge_arr[index]\n",
    "            algo_arr.append(rankingData.algo)\n",
    "        return algo_arr\n",
    "    \n",
    "team_draft=TeamDraft(10)\n",
    "merge_algo=team_draft.merge_algo(randint(0,242))\n",
    "clicks=[0,1,2,3,4,5,6,7,8,9]\n",
    "team_draft.find_algo_clicks(clicks,merge_algo)"
   ]
  },
  {
   "cell_type": "code",
   "execution_count": 6,
   "metadata": {
    "collapsed": false
   },
   "outputs": [
    {
     "name": "stdout",
     "output_type": "stream",
     "text": [
      "100000\n"
     ]
    }
   ],
   "source": [
    "filepath = 'search.txt'  \n",
    "data_arr=[]\n",
    "with open(filepath) as fp:  \n",
    "    line = fp.readline()\n",
    "    while line:\n",
    "        temp=line.split()\n",
    "        data_arr.append(temp)\n",
    "        line = fp.readline()\n",
    "print(len(data_arr))"
   ]
  },
  {
   "cell_type": "code",
   "execution_count": 38,
   "metadata": {
    "collapsed": false
   },
   "outputs": [],
   "source": [
    "# class to implemet the RCM model \n",
    "class RCM:\n",
    "    def __init__(self):\n",
    "        self.sessions=0\n",
    "        self.queries=0\n",
    "        self.clicks=0\n",
    "        self.prob_rcm=0\n",
    "    # function to calculate the total number of sessions    \n",
    "    def get_sessions(self):\n",
    "        for i in range(0,len(data_arr)):\n",
    "            sessions=data_arr[i][0]\n",
    "        self.session=sessions\n",
    "    # function to calculate the total number of clicks\n",
    "    def get_clicks(self):\n",
    "        tot_clicks=0\n",
    "        for i in range(0,len(data_arr)):\n",
    "            if(data_arr[i][2]==\"C\"):\n",
    "                tot_clicks=tot_clicks+1\n",
    "        self.clicks=tot_clicks\n",
    "    # function to calcuate the total queries by user    \n",
    "    def get_total_docs_shown(self):\n",
    "        tot_docs=0\n",
    "        for i in range(0,len(data_arr)):\n",
    "            if(data_arr[i][2]==\"Q\"):\n",
    "                tot_docs=tot_docs+len(data_arr[i])-5\n",
    "        self.tot_docs=tot_docs\n",
    "    # main function to calculate RCM    \n",
    "    def get_rcm(self):\n",
    "        self.get_total_docs_shown()\n",
    "        self.get_clicks()\n",
    "        prob_rcm=self.clicks/self.tot_docs\n",
    "        self.prob_rcm=prob_rcm\n",
    "        return prob_rcm\n",
    "    # function to get click probablties\n",
    "    def get_click_prob(self,arr):\n",
    "        le=len(arr)\n",
    "        click_probs=[]\n",
    "        for i in range(0,le):\n",
    "            click_probs.append(prob_rcm)\n",
    "        return click_probs\n",
    "    # function to get the indexes clicked based on the arr given\n",
    "    def get_stoch_click_index(self,arr):\n",
    "        rand_index=[]\n",
    "        while True:\n",
    "            index=randint(1,len(arr))\n",
    "            if(index not in rand_index):\n",
    "                rand_index.append(index)\n",
    "                if(len(rand_index)==4):\n",
    "                    return rand_index\n",
    "        return rand_index\n",
    "rcm=RCM()\n",
    "prob=rcm.get_rcm()\n",
    "        "
   ]
  },
  {
   "cell_type": "code",
   "execution_count": 8,
   "metadata": {
    "collapsed": false
   },
   "outputs": [
    {
     "name": "stdout",
     "output_type": "stream",
     "text": [
      "100000\n",
      "42652\n",
      "[0.2931268584958315, 0.13519935875638853, 0.1031282398292135, 0.08396473213556124, 0.07015549225744785, 0.06246640384082322, 0.06042320473397305, 0.05948457082027777, 0.06023838989635893, 0.0718127492341246]\n"
     ]
    }
   ],
   "source": [
    "# class to implement the PBM model\n",
    "class PBM:\n",
    "    #constructor takes 2 arguments .\n",
    "    # alpha => attractiveness arr . top most value 0.5 and least value of 0.2 and each value decrements by 0.03\n",
    "    # gamma => evidence arr , all values are 0.5\n",
    "    def __init__(self,alpha,gamma):\n",
    "        self.alpha=alpha\n",
    "        self.gamma=gamma\n",
    "        self.tot_gamma=[]\n",
    "        for i in range(0,10):\n",
    "            self.tot_gamma.append(0.0)\n",
    "        self.get_tot_query()\n",
    "    # calcuale the total query    \n",
    "    def get_tot_query(self):\n",
    "        tot_query=0\n",
    "        for i in range(0,len(data_arr)):\n",
    "            if(data_arr[i][2]==\"Q\"):\n",
    "                tot_query=tot_query+1\n",
    "        self.tot_query=tot_query\n",
    "        print(len(data_arr))\n",
    "        print(self.tot_query)\n",
    "    # helper fucntion    \n",
    "    def re_init_tot_gamma(self):\n",
    "         for i in range(0,10):\n",
    "            self.tot_gamma[i]=0.0\n",
    "    # function to update the gamma values based on the observed values from the Yandex log file \n",
    "    def update_gamma(self,clicks,data):\n",
    "        if(len(clicks)==0):\n",
    "            for i in range(0,10):\n",
    "                self.tot_gamma[i]=self.tot_gamma[i]+((1-self.alpha[i])*self.gamma[i])/((1-self.gamma[i]*self.alpha[i]))\n",
    "        else:\n",
    "            for i in range(0,10):\n",
    "                document_id=data[5+i]\n",
    "                if document_id in clicks:\n",
    "                    self.tot_gamma[i]=self.tot_gamma[i]+1\n",
    "                else:\n",
    "                     self.tot_gamma[i]=self.tot_gamma[i]+((1-self.alpha[i])*self.gamma[i])/((1-self.gamma[i]*self.alpha[i]))\n",
    "    #  main function , reads the logs and calls the update gamma function to update all the values                 \n",
    "    def m_update_algo(self):\n",
    "        query_data=[]\n",
    "        for i in range(0,len(data_arr)):\n",
    "            data=data_arr[i]\n",
    "            if(data[2]==\"Q\"):\n",
    "                query_data=data\n",
    "                if((i+1)<len(data_arr) and data_arr[i+1][2]==\"Q\"):\n",
    "                    clicks=[]\n",
    "                    self.update_gamma(clicks,data)\n",
    "                else:\n",
    "                    val=i+1\n",
    "                    if(val<len(data_arr)):\n",
    "                        clicks=[]\n",
    "                        while(data_arr[val][2]==\"C\" and val<len(data_arr)):\n",
    "                            clicks.append(data_arr[val][3])\n",
    "                            val=val+1\n",
    "                        self.update_gamma(clicks,query_data)\n",
    "                        i=val-1\n",
    "        for j in range(0,10):\n",
    "            self.tot_gamma[j]=self.tot_gamma[j]/self.tot_query\n",
    "        diff=0.0\n",
    "        for k in range(0,10):\n",
    "            diff=diff+abs(self.gamma[k]-self.tot_gamma[k])\n",
    "            self.gamma[k]=self.tot_gamma[k]\n",
    "        self.re_init_tot_gamma()\n",
    "        #print(diff)\n",
    "gamma=[]\n",
    "alpha=[]\n",
    "alpha_int_val=0.5\n",
    "for i in range(0,10):\n",
    "    gamma.append(0.5)\n",
    "    alpha.append(alpha_int_val)\n",
    "    alpha_int_val=alpha_int_val-0.03\n",
    "pbm=PBM(alpha,gamma)\n",
    "for i in range(0,1000):\n",
    "    pbm.m_update_algo()\n",
    "sum_gamma=0\n",
    "for i in range(0,10):\n",
    "    sum_gamma=sum_gamma+pbm.gamma[i]\n",
    "for i in range(0,10):\n",
    "    pbm.gamma[i]=pbm.gamma[i]/sum_gamma\n",
    "print(pbm.gamma)"
   ]
  },
  {
   "cell_type": "code",
   "execution_count": 39,
   "metadata": {
    "collapsed": false
   },
   "outputs": [
    {
     "name": "stdout",
     "output_type": "stream",
     "text": [
      "[0, 1, 7, 3]\n"
     ]
    }
   ],
   "source": [
    "import numpy as np\n",
    "# class to compute the Pbm results . As the PBM has a learning curve we decided to make a separate class for PBM Results \n",
    "class PbmResult:\n",
    "    # function to get the probabilities for the input arr\n",
    "    def get_prob_output(self,arr):\n",
    "        prob=[]\n",
    "        for i in range(0,10):\n",
    "            val=pbm.gamma[i]*pbm.alpha\n",
    "            prob.append(val)\n",
    "    # function to get_clicked_items basd on the probabilites\n",
    "    def get_clicked_item(self,probs):\n",
    "        rand_index=[]\n",
    "        while True:\n",
    "            # index chosen based on the probaility of it \n",
    "            index=np.random.choice(10, 1,p=probs)[0]\n",
    "            # index also nneds to satisy the attractiveness based on its ranking\n",
    "            attract=np.random.choice([0,1],1,p=[1-pbm.alpha[index],pbm.alpha[index]])[0]\n",
    "            if(attract==1 and index not in rand_index ):\n",
    "                rand_index.append(index)\n",
    "                if(len(rand_index)==4):\n",
    "                    return rand_index\n",
    "        return index    \n",
    "pbm_result=PbmResult()\n",
    "print(pbm_result.get_clicked_item(pbm.gamma))"
   ]
  },
  {
   "cell_type": "code",
   "execution_count": 40,
   "metadata": {
    "collapsed": false
   },
   "outputs": [
    {
     "name": "stdout",
     "output_type": "stream",
     "text": [
      "\n",
      "[0.260985, 0.261545, 0.26318, 0.26156, 0.261705, 0.2612, 0.262235, 0.262505, 0.26046, 0.26137]\n",
      "[0.241155, 0.23881, 0.23962, 0.24001, 0.239215, 0.23957, 0.237485, 0.23915, 0.239055, 0.23783]\n"
     ]
    }
   ],
   "source": [
    "# class to perform online interleaving simulations\n",
    "class InterLeavingExp:\n",
    "    def __init__(self):\n",
    "        print(\"\")\n",
    "    # function to perform _e_proption_Wins for RCM and PCM models\n",
    "    def get_e_proption_wins(self,int_rank):\n",
    "        e_wins_rcm=0\n",
    "        e_wins_pcm=0\n",
    "        tot_query=200000\n",
    "        team_draft=TeamDraft(int_rank)\n",
    "        for i in range(0,tot_query):\n",
    "            rand_index_p=randint(0,242)\n",
    "            merge_algo=team_draft.merge_algo(rand_index_p)\n",
    "            #algo=[]\n",
    "            #for data in merge_algo:\n",
    "            #    algo.append(data.algo)\n",
    "            #print(algo)\n",
    "            rand_index_rcm=rcm.get_stoch_click_index(merge_algo)\n",
    "            rand_index_pcm=pbm_result.get_clicked_item(pbm.gamma)\n",
    "            #print(rand_index_pcm)\n",
    "            count_rcm=0\n",
    "            count_pcm=0\n",
    "            for k in range(0,4):\n",
    "                if(merge_algo[rand_index_rcm[k]-1].algo==\"E\"):\n",
    "                    count_rcm=count_rcm+1\n",
    "                if(merge_algo[rand_index_pcm[k]].algo==\"E\"):\n",
    "                    count_pcm=count_pcm+1\n",
    "            #print(count_pcm) \n",
    "            if(count_rcm>=3):\n",
    "                e_wins_rcm=e_wins_rcm+1\n",
    "            if(count_pcm>=3):\n",
    "                e_wins_pcm=e_wins_pcm+1\n",
    "        return e_wins_rcm/tot_query,e_wins_pcm/tot_query\n",
    "        \n",
    "inter_exp=InterLeavingExp()\n",
    "exp_wins_rcm=[]\n",
    "exp_wins_pbm=[]\n",
    "for i in range(0,10):\n",
    "    a,b=inter_exp.get_e_proption_wins(10)\n",
    "    exp_wins_rcm.append(a)\n",
    "    exp_wins_pbm.append(b)\n",
    "print(exp_wins_rcm)\n",
    "print(exp_wins_pbm)\n",
    "            "
   ]
  },
  {
   "cell_type": "code",
   "execution_count": 45,
   "metadata": {
    "collapsed": false
   },
   "outputs": [
    {
     "data": {
      "image/png": "[encoded data removed]",
      "text/plain": [
       "<matplotlib.figure.Figure at 0x7f11b7a570f0>"
      ]
     },
     "metadata": {},
     "output_type": "display_data"
    }
   ],
   "source": [
    "import matplotlib.pyplot as plt\n",
    "import matplotlib\n",
    "import pylab\n",
    "\n",
    "x = [1,2,3,4,5,6,7,8,9,10]\n",
    "y = [0.2931268584958315, 0.13519935875638853, 0.1031282398292135, 0.08396473213556124, 0.07015549225744785, 0.06246640384082322, 0.06042320473397305, 0.05948457082027777, 0.06023838989635893, 0.0718127492341246]\n",
    "fig = plt.figure()\n",
    "fig.suptitle('Probability Rank Plot for PBM model', fontsize=14, fontweight='bold')\n",
    "ax = fig.add_subplot(111)\n",
    "plt.scatter(x,y)\n",
    "ax.set_xlabel('rank')\n",
    "ax.set_ylabel('probability')\n",
    "plt.show()"
   ]
  },
  {
   "cell_type": "code",
   "execution_count": null,
   "metadata": {
    "collapsed": false
   },
   "outputs": [],
   "source": [
    "\"\"\"the graph displays the exponential decay in the examinational probability but based on the Yandex log data it can be \n",
    "seen that the rank 10 has higher probability than 9\"\"\" "
   ]
  },
  {
   "cell_type": "code",
   "execution_count": 36,
   "metadata": {
    "collapsed": false
   },
   "outputs": [
    {
     "data": {
      "image/png": "[encoded data removed]",
      "text/plain": [
       "<matplotlib.figure.Figure at 0x7fcdd41f7be0>"
      ]
     },
     "metadata": {},
     "output_type": "display_data"
    }
   ],
   "source": [
    "x = [1,2,3,4,5,6,7,8,9,10]\n",
    "y = [0.49941, 0.49978, 0.49961, 0.50157, 0.50104, 0.49883, 0.499255, 0.501385, 0.50195, 0.50054]\n",
    "y1=[0.49933, 0.50076, 0.50021, 0.49931, 0.50352, 0.49937, 0.50033, 0.499895, 0.499115, 0.500615]\n",
    "fig = plt.figure()\n",
    "fig.suptitle('E-proption wins plot based on RCM and PBM model for 1 click', fontsize=14, fontweight='bold')\n",
    "ax = fig.add_subplot(111)\n",
    "plt.scatter(x,y)\n",
    "plt.scatter(x,y1)\n",
    "ax.set_xlabel('experiment')\n",
    "ax.set_ylabel('prop_wins')\n",
    "plt.show()"
   ]
  },
  {
   "cell_type": "code",
   "execution_count": 37,
   "metadata": {
    "collapsed": false
   },
   "outputs": [
    {
     "data": {
      "image/png": "[encoded data removed]",
      "text/plain": [
       "<matplotlib.figure.Figure at 0x7fcdd3df49e8>"
      ]
     },
     "metadata": {},
     "output_type": "display_data"
    }
   ],
   "source": [
    "x = [1,2,3,4,5,6,7,8,9,10]\n",
    "y = [0.25036, 0.250525, 0.24923, 0.250315, 0.24928, 0.250465, 0.24913, 0.248935, 0.251075, 0.25153]\n",
    "y1=[0.202495, 0.20081, 0.200495, 0.202565, 0.20294, 0.20319, 0.203005, 0.202765, 0.203265, 0.202585]\n",
    "fig = plt.figure()\n",
    "fig.suptitle('E-proption wins plot based on RCM and PBM model for 2 clicks', fontsize=14, fontweight='bold')\n",
    "ax = fig.add_subplot(111)\n",
    "plt.scatter(x,y)\n",
    "plt.scatter(x,y1)\n",
    "ax.set_xlabel('experiment')\n",
    "ax.set_ylabel('prop_wins')\n",
    "plt.show()\n",
    "\"\"\"[0.49984, 0.50091, 0.497055, 0.49845, 0.49991, 0.49943, 0.500045, 0.501, 0.50145, 0.498925]\n",
    "[0.50056, 0.50002, 0.50055, 0.498055, 0.497745, 0.501135, 0.50124, 0.5006, 0.49858, 0.500185]\n",
    "[0.49984, 0.50091, 0.497055, 0.49845, 0.49991, 0.49943, 0.500045, 0.501, 0.50145, 0.498925]\n",
    "[0.50056, 0.50002, 0.50055, 0.498055, 0.497745, 0.501135, 0.50124, 0.5006, 0.49858, 0.500185]\"\"\""
   ]
  },
  {
   "cell_type": "code",
   "execution_count": 35,
   "metadata": {
    "collapsed": false
   },
   "outputs": [
    {
     "data": {
      "image/png": "[encoded data removed]",
      "text/plain": [
       "<matplotlib.figure.Figure at 0x7fcdd3ef74a8>"
      ]
     },
     "metadata": {},
     "output_type": "display_data"
    }
   ],
   "source": [
    "\n",
    "avg_pre_arr=[0.4776475767941206,0.6123480398852615,0.6925409232710575]\n",
    "ndcg_arr=[0.49507522094043044,0.49372596640356203,0.468764757471497]\n",
    "err=[0.5922215475949538,0.42978411927410107,0.5768063145112325]\n",
    "rank_retrieved=[5,4,3]\n",
    "fig = plt.figure()\n",
    "fig.suptitle('E-proption wins plot based on avergae precison , ndcg & err', fontsize=14, fontweight='bold')\n",
    "ax = fig.add_subplot(111)\n",
    "plt.scatter(rank_retrieved,avg_pre_arr,c='red',label='avg_pre')\n",
    "plt.scatter(rank_retrieved,ndcg_arr,c='green',label='ndcg')\n",
    "plt.scatter(rank_retrieved,err,c='blue',label='err')\n",
    "ax.set_xlabel('ranks retrieved')\n",
    "ax.set_ylabel('e_prop_wins')\n",
    "ax.legend()\n",
    "plt.show()"
   ]
  },
  {
   "cell_type": "code",
   "execution_count": 41,
   "metadata": {
    "collapsed": false
   },
   "outputs": [
    {
     "data": {
      "text/plain": [
       "'\\nAs the results were simulated we can see for single click for online models and all rank retrival for offline models \\ngives the same result, that is slightly less than 50 % wins for E. The reason being since the simulations give 50 % chances\\nchances to both E and P and there are cases in which E=P the probablity of E wins will be slightly less than 50 %. Both the\\noffline and online midels predict it. For online we ran multiple simulations and result is approximately same every time , for oofline \\nit was not required as there were no random clicks \\n\\nWe can also see for offline models if the rank retrival is less than total rank reterival then the proption wins for e\\nby only ndcg models are stable whereas for the other models proption varies.\\n\\nFor the online models we ran 200000 simulations for each click type. that is user for each page makes 1 ,2,3 or 4 clicks . It was observed that\\nfor odd clicks the e_wins were close to 50 % where as for even clicks the wins were close to 25% and there is deviation \\nin RCM and PBM model when there are even clicks . The RCM models gives E 25 % of wins approximately whereas PBM gives \\n20% of the wins\". The reason i belive for 50 % and 25 % is because of Team Drafting and the models .We bellieve this is because \\nincase of odd since the algorithm results are simulated there is 50 % chance that the last odd item will be either E or P \\nwhere as for even cases 25% is because these are more of edge cases because chances of E or P document are equal so because \\nof  randomness this happens .\\n\\nIt can also be seen that offline case varies between 40-69% where as the online varies between 20-50%. Online models are \\nmore human centric becuase theoritcally 50 % chances are there for E to win but it should decrease with number of odd clicks and\\nthat is what is happening in online models . Also in online models PBM is better than RCm becuase it not only takes position of \\ndocument into account but also the attractiveness based on query and document . For our simulation we didn\\'t make attractiveness\\nquey based but it was rank based so the highest one had 0.5 attractive and last one 0.2 attractive with each document getting \\n-0.03 decrement as we move down '"
      ]
     },
     "execution_count": 41,
     "metadata": {},
     "output_type": "execute_result"
    }
   ],
   "source": [
    "\"\"\"\n",
    "As the results were simulated we can see for single click for online models and all rank retrival for offline models \n",
    "gives the same result, that is slightly less than 50 % wins for E. The reason being since the simulations give 50 % chances\n",
    "chances to both E and P and there are cases in which E=P the probablity of E wins will be slightly less than 50 %. Both the\n",
    "offline and online midels predict it. For online we ran multiple simulations and result is approximately same every time , for oofline \n",
    "it was not required as there were no random clicks \n",
    "\n",
    "We can also see for offline models if the rank retrival is less than total rank reterival then the proption wins for e\n",
    "by only ndcg models are stable whereas for the other models proption varies.\n",
    "\n",
    "For the online models we ran 200000 simulations for each click type. that is user for each page makes 1 ,2,3 or 4 clicks . It was observed that\n",
    "for odd clicks the e_wins were close to 50 % where as for even clicks the wins were close to 25% and there is deviation \n",
    "in RCM and PBM model when there are even clicks . The RCM models gives E 25 % of wins approximately whereas PBM gives \n",
    "20% of the wins\". The reason i belive for 50 % and 25 % is because of Team Drafting and the models .We bellieve this is because \n",
    "incase of odd since the algorithm results are simulated there is 50 % chance that the last odd item will be either E or P \n",
    "where as for even cases 25% is because these are more of edge cases because chances of E or P document are equal so because \n",
    "of  randomness this happens .\n",
    "\n",
    "It can also be seen that offline case varies between 40-69% where as the online varies between 20-50%. Online models are \n",
    "more human centric becuase theoritcally 50 % chances are there for E to win but it should decrease with number of odd clicks and\n",
    "that is what is happening in online models . Also in online models PBM is better than RCm becuase it not only takes position of \n",
    "document into account but also the attractiveness based on query and document . For our simulation we didn't make attractiveness\n",
    "quey based but it was rank based so the highest one had 0.5 attractive and last one 0.2 attractive with each document getting \n",
    "-0.03 decrement as we move down \"\"\""
   ]
  },
  {
   "cell_type": "code",
   "execution_count": null,
   "metadata": {
    "collapsed": true
   },
   "outputs": [],
   "source": []
  }
 ],
 "metadata": {
  "anaconda-cloud": {},
  "kernelspec": {
   "display_name": "Python [conda root]",
   "language": "python",
   "name": "conda-root-py"
  },
  "language_info": {
   "codemirror_mode": {
    "name": "ipython",
    "version": 3
   },
   "file_extension": ".py",
   "mimetype": "text/x-python",
   "name": "python",
   "nbconvert_exporter": "python",
   "pygments_lexer": "ipython3",
   "version": "3.5.2"
  }
 },
 "nbformat": 4,
 "nbformat_minor": 1
}
