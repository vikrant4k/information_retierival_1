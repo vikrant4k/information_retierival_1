{
 "cells": [
  {
   "cell_type": "markdown",
   "metadata": {},
   "source": [
    "# Information Retrieval 1#\n",
    "## Assignment 2: Retrieval models [100 points] ##"
   ]
  },
  {
   "cell_type": "markdown",
   "metadata": {},
   "source": [
    "In this assignment you will get familiar with basic and advanced information retrieval concepts. You will implement different information retrieval ranking models and evaluate their performance.\n",
    "\n",
    "We provide you with a Indri index. To query the index, you'll use a Python package ([pyndri](https://github.com/cvangysel/pyndri)) that allows easy access to the underlying document statistics.\n",
    "\n",
    "For evaluation you'll use the [TREC Eval](https://github.com/usnistgov/trec_eval) utility, provided by the National Institute of Standards and Technology of the United States. TREC Eval is the de facto standard way to compute Information Retrieval measures and is frequently referenced in scientific papers.\n",
    "\n",
    "This is a **groups-of-three assignment**, the deadline is **Wednesday, January 31st**. Code quality, informative comments and convincing analysis of the results will be considered when grading. Submission should be done through blackboard, questions can be asked on the course [Piazza](piazza.com/university_of_amsterdam/spring2018/52041inr6y/home).\n",
    "\n",
    "### Technicalities (must-read!) ###\n",
    "\n",
    "The assignment directory is organized as follows:\n",
    "   * `./assignment.ipynb` (this file): the description of the assignment.\n",
    "   * `./index/`: the index we prepared for you.\n",
    "   * `./ap_88_90/`: directory with ground-truth and evaluation sets:\n",
    "      * `qrel_test`: test query relevance collection (**test set**).\n",
    "      * `qrel_validation`: validation query relevance collection (**validation set**).\n",
    "      * `topics_title`: semicolon-separated file with query identifiers and terms.\n",
    "\n",
    "You will need the following software packages (tested with Python 3.5 inside [Anaconda](https://conda.io/docs/user-guide/install/index.html)):\n",
    "   * Python 3.5 and Jupyter\n",
    "   * Indri + Pyndri (Follow the installation instructions [here](https://github.com/nickvosk/pyndri/blob/master/README.md))\n",
    "   * gensim [link](https://radimrehurek.com/gensim/install.html)\n",
    "   * TREC Eval [link](https://github.com/usnistgov/trec_eval)"
   ]
  },
  {
   "cell_type": "markdown",
   "metadata": {},
   "source": [
    "### TREC Eval primer ###\n",
    "The TREC Eval utility can be downloaded and compiled as follows:\n",
    "\n",
    "    git clone https://github.com/usnistgov/trec_eval.git\n",
    "    cd trec_eval\n",
    "    make\n",
    "\n",
    "TREC Eval computes evaluation scores given two files: ground-truth information regarding relevant documents, named *query relevance* or *qrel*, and a ranking of documents for a set of queries, referred to as a *run*. The *qrel* will be supplied by us and should not be changed. For every retrieval model (or combinations thereof) you will generate a run of the top-1000 documents for every query. The format of the *run* file is as follows:\n",
    "\n",
    "    $query_identifier Q0 $document_identifier $rank_of_document_for_query $query_document_similarity $run_identifier\n",
    "    \n",
    "where\n",
    "   * `$query_identifier` is the unique identifier corresponding to a query (usually this follows a sequential numbering).\n",
    "   * `Q0` is a legacy field that you can ignore.\n",
    "   * `$document_identifier` corresponds to the unique identifier of a document (e.g., APXXXXXXX where AP denotes the collection and the Xs correspond to a unique numerical identifier).\n",
    "   * `$rank_of_document_for_query` denotes the rank of the document for the particular query. This field is ignored by TREC Eval and is only maintained for legacy support. The ranks are computed by TREC Eval itself using the `$query_document_similarity` field (see next). However, it remains good practice to correctly compute this field.\n",
    "   * `$query_document_similarity` is a score indicating the similarity between query and document where a higher score denotes greater similarity.\n",
    "   * `$run_identifier` is an identifier of the run. This field is for your own convenience and has no purpose beyond bookkeeping.\n",
    "   \n",
    "For example, say we have two queries: `Q1` and `Q2` and we rank three documents (`DOC1`, `DOC2`, `DOC3`). For query `Q1`, we find the following similarity scores `score(Q1, DOC1) = 1.0`, `score(Q1, DOC2) = 0.5`, `score(Q1, DOC3) = 0.75`; and for `Q2`: `score(Q2, DOC1) = -0.1`, `score(Q2, DOC2) = 1.25`, `score(Q1, DOC3) = 0.0`. We can generate run using the following snippet:"
   ]
  },
  {
   "cell_type": "code",
   "execution_count": 1,
   "metadata": {
    "scrolled": false
   },
   "outputs": [
    {
     "name": "stdout",
     "output_type": "stream",
     "text": [
      "Q1 Q0 DOC1 1 1.0 example\n",
      "Q1 Q0 DOC3 2 0.75 example\n",
      "Q1 Q0 DOC2 3 0.5 example\n",
      "Q2 Q0 DOC2 1 1.25 example\n",
      "Q2 Q0 DOC3 2 0.0 example\n",
      "Q2 Q0 DOC1 3 -0.1 example\n"
     ]
    }
   ],
   "source": [
    "import logging\n",
    "import sys\n",
    "import os\n",
    "import os.path\n",
    "import time\n",
    "import numpy as np\n",
    "from sklearn.metrics.pairwise import cosine_similarity\n",
    "import math\n",
    "from operator import itemgetter\n",
    "\n",
    "\n",
    "\n",
    "def write_run(model_name, data, out_f,\n",
    "              max_objects_per_query=sys.maxsize,\n",
    "              skip_sorting=False):\n",
    "    \"\"\"\n",
    "    Write a run to an output file.\n",
    "    Parameters:\n",
    "        - model_name: identifier of run.\n",
    "        - data: dictionary mapping topic_id to object_assesments;\n",
    "            object_assesments is an iterable (list or tuple) of\n",
    "            (relevance, object_id) pairs.\n",
    "            The object_assesments iterable is sorted by decreasing order.\n",
    "        - out_f: output file stream.\n",
    "        - max_objects_per_query: cut-off for number of objects per query.\n",
    "    \"\"\"\n",
    "    for subject_id, object_assesments in data.items():\n",
    "        if not object_assesments:\n",
    "            logging.warning('Received empty ranking for %s; ignoring.',\n",
    "                            subject_id)\n",
    "\n",
    "            continue\n",
    "\n",
    "        # Probe types, to make sure everything goes alright.\n",
    "        # assert isinstance(object_assesments[0][0], float) or \\\n",
    "        #     isinstance(object_assesments[0][0], np.float32)\n",
    "        assert isinstance(object_assesments[0][1], str) or \\\n",
    "            isinstance(object_assesments[0][1], bytes)\n",
    "\n",
    "        if not skip_sorting:\n",
    "            object_assesments = sorted(object_assesments, reverse=True)\n",
    "\n",
    "        if max_objects_per_query < sys.maxsize:\n",
    "            object_assesments = object_assesments[:max_objects_per_query]\n",
    "\n",
    "        if isinstance(subject_id, bytes):\n",
    "            subject_id = subject_id.decode('utf8')\n",
    "\n",
    "        for rank, (relevance, object_id) in enumerate(object_assesments):\n",
    "            if isinstance(object_id, bytes):\n",
    "                object_id = object_id.decode('utf8')\n",
    "\n",
    "            out_f.write(\n",
    "                '{subject} Q0 {object} {rank} {relevance} '\n",
    "                '{model_name}\\n'.format(\n",
    "                    subject=subject_id,\n",
    "                    object=object_id,\n",
    "                    rank=rank + 1,\n",
    "                    relevance=relevance,\n",
    "                    model_name=model_name))\n",
    "            \n",
    "# The following writes the run to standard output.\n",
    "# In your code, you should write the runs to local\n",
    "# storage in order to pass them to trec_eval.\n",
    "write_run(\n",
    "    model_name='example',\n",
    "    data={\n",
    "        'Q1': ((1.0, 'DOC1'), (0.5, 'DOC2'), (0.75, 'DOC3')),\n",
    "        'Q2': ((-0.1, 'DOC1'), (1.25, 'DOC2'), (0.0, 'DOC3')),\n",
    "    },\n",
    "    out_f=sys.stdout,\n",
    "    max_objects_per_query=1000)"
   ]
  },
  {
   "cell_type": "markdown",
   "metadata": {},
   "source": [
    "Now, imagine that we know that `DOC1` is relevant and `DOC3` is non-relevant for `Q1`. In addition, for `Q2` we only know of the relevance of `DOC3`. The query relevance file looks like:\n",
    "\n",
    "    Q1 0 DOC1 1\n",
    "    Q1 0 DOC3 0\n",
    "    Q2 0 DOC3 1\n",
    "    \n",
    "We store the run and qrel in files `example.run` and `example.qrel` respectively on disk. We can now use TREC Eval to compute evaluation measures. In this example, we're only interested in Mean Average Precision and we'll only show this below for brevity. However, TREC Eval outputs much more information such as NDCG, recall, precision, etc.\n",
    "\n",
    "    $ trec_eval -m all_trec -q example.qrel example.run | grep -E \"^map\\s\"\n",
    "    > map                   \tQ1\t1.0000\n",
    "    > map                   \tQ2\t0.5000\n",
    "    > map                   \tall\t0.7500\n",
    "    \n",
    "Now that we've discussed the output format of rankings and how you can compute evaluation measures from these rankings, we'll now proceed with an overview of the indexing framework you'll use."
   ]
  },
  {
   "cell_type": "markdown",
   "metadata": {},
   "source": [
    "### Pyndri primer ###\n",
    "For this assignment you will use [Pyndri](https://github.com/cvangysel/pyndri) [[1](https://arxiv.org/abs/1701.00749)], a python interface for [Indri](https://www.lemurproject.org/indri.php). We have indexed the document collection and you can query the index using Pyndri. We will start by giving you some examples of what Pyndri can do:\n",
    "\n",
    "First we read the document collection index with Pyndri:"
   ]
  },
  {
   "cell_type": "code",
   "execution_count": 2,
   "metadata": {
    "collapsed": true,
    "scrolled": true
   },
   "outputs": [],
   "source": [
    "import pyndri\n",
    "\n",
    "index = pyndri.Index('index/')"
   ]
  },
  {
   "cell_type": "markdown",
   "metadata": {},
   "source": [
    "The loaded index can be used to access a collection of documents in an easy manner. We'll give you some examples to get some idea of what it can do, it is up to you to figure out how to use it for the remainder of the assignment.\n",
    "\n",
    "First let's look at the number of documents, since Pyndri indexes the documents using incremental identifiers we can simply take the lowest index and the maximum document and consider the difference:"
   ]
  },
  {
   "cell_type": "code",
   "execution_count": 3,
   "metadata": {},
   "outputs": [
    {
     "name": "stdout",
     "output_type": "stream",
     "text": [
      "There are 164597 documents in this collection.\n"
     ]
    }
   ],
   "source": [
    "print(\"There are %d documents in this collection.\" % (index.maximum_document() - index.document_base()))"
   ]
  },
  {
   "cell_type": "markdown",
   "metadata": {},
   "source": [
    "Let's take the first document out of the collection and take a look at it:"
   ]
  },
  {
   "cell_type": "code",
   "execution_count": 3,
   "metadata": {
    "scrolled": true
   },
   "outputs": [
    {
     "name": "stdout",
     "output_type": "stream",
     "text": [
      "('AP890425-0001', (1360, 192, 363, 0, 880, 0, 200, 0, 894, 412, 92160, 3, 192, 0, 363, 34, 1441, 0, 174134, 0, 200, 0, 894, 412, 2652, 0, 810, 107, 49, 4903, 420, 0, 1, 48, 35, 489, 0, 35, 687, 192, 243, 0, 249311, 1877, 0, 1651, 1174, 0, 2701, 117, 412, 0, 810, 391, 245233, 1225, 5838, 16, 0, 233156, 3496, 0, 393, 17, 0, 2435, 4819, 930, 0, 0, 200, 0, 894, 0, 22, 398, 145, 0, 3, 271, 115, 0, 1176, 2777, 292, 0, 725, 192, 0, 0, 50046, 0, 1901, 1130, 0, 192, 0, 408, 0, 243779, 0, 0, 553, 192, 0, 363, 0, 3747, 0, 0, 0, 0, 1176, 0, 1239, 0, 0, 1115, 17, 0, 0, 585, 192, 1963, 0, 0, 412, 54356, 0, 773, 0, 0, 0, 192, 0, 0, 1130, 0, 363, 0, 545, 192, 0, 1174, 1901, 1130, 0, 4, 398, 145, 39, 0, 577, 0, 355, 0, 491, 0, 6025, 0, 0, 193156, 88, 34, 437, 0, 0, 1852, 0, 828, 0, 1588, 0, 0, 0, 2615, 0, 0, 107, 49, 420, 0, 0, 190, 7, 714, 2701, 0, 237, 192, 157, 0, 412, 34, 437, 0, 0, 200, 6025, 26, 0, 0, 0, 0, 363, 0, 22, 398, 145, 0, 200, 638, 126222, 6018, 0, 880, 0, 0, 161, 0, 0, 319, 894, 2701, 0, 0, 0, 301, 1200, 0, 363, 251, 430, 0, 207, 0, 76143, 1773, 0, 243779, 0, 0, 72030, 0, 55, 4903, 420, 0, 2701, 1496, 420, 0, 25480, 0, 420, 0, 0, 200, 0, 392, 2949, 0, 1738, 0, 61, 0, 71, 79, 0, 200, 903, 0, 188, 53, 6, 0, 476, 2, 0, 2028, 97, 334, 0, 0, 200, 178, 0, 0, 107, 49, 0, 214, 0, 0, 0, 114, 3866, 1505, 195, 79893, 574, 0, 198, 2160, 0, 192, 0, 420, 0, 384, 0, 2701, 0, 114, 6025, 1549, 74627, 0, 238, 0, 0, 0, 3729, 0, 192, 0, 79893, 0, 0, 729, 3141, 129, 0, 192, 196764, 39, 0, 0, 714, 63, 0, 55, 420, 3356, 0, 0, 117, 412, 0, 0, 79758, 0, 1901, 1130, 4067, 2133, 0, 0, 875, 72, 0, 0, 336, 2789, 0, 0, 25, 920, 121, 104, 0, 3162, 0, 0, 420, 0, 2178, 0, 0, 386, 192545, 159306, 0, 0, 0, 1914, 0, 200, 0, 1794, 0, 2654, 0, 0, 25480, 420, 0, 2795, 0, 0, 229690, 0, 32559, 0, 0, 392, 253919, 0, 0, 0, 0, 379, 0, 0, 114, 0, 553, 10, 0, 1128, 0, 23610, 248, 151, 0, 418, 0, 651, 0, 36, 0, 0, 645, 0, 0, 513, 0, 0, 25480, 420, 34, 0, 0, 0, 15, 0, 3348, 0, 3496, 0, 35, 687, 0, 1, 48, 0, 0, 2803, 0, 0, 714, 1274, 0, 114, 62, 1006, 70268, 1200, 2357, 0, 497, 0, 497, 125, 0, 913, 4647, 3985, 0, 0, 3370, 245233, 0, 0, 687, 0, 4, 1288, 0, 0, 0, 0, 715, 0, 0, 687, 583, 0, 0, 1627, 0, 0, 11, 357, 1359, 0, 849, 0, 0, 1518, 462, 245233, 0, 0, 0, 0, 0, 0, 171, 70268, 0))\n"
     ]
    }
   ],
   "source": [
    "example_document = index.document(index.document_base())\n",
    "print(example_document)"
   ]
  },
  {
   "cell_type": "markdown",
   "metadata": {},
   "source": [
    "Here we see a document consists of two things, a string representing the external document identifier and an integer list representing the identifiers of words that make up the document. Pyndri uses integer representations for words or terms, thus a token_id is an integer that represents a word whereas the token is the actual text of the word/term. Every id has a unique token and vice versa with the exception of stop words: words so common that there are uninformative, all of these receive the zero id.\n",
    "\n",
    "To see what some ids and their matching tokens we take a look at the dictionary of the index:"
   ]
  },
  {
   "cell_type": "code",
   "execution_count": 4,
   "metadata": {},
   "outputs": [
    {
     "name": "stdout",
     "output_type": "stream",
     "text": [
      "[(1, 'new'), (2, 'percent'), (3, 'two'), (4, '1'), (5, 'people'), (6, 'million'), (7, '000'), (8, 'government'), (9, 'president'), (10, 'years'), (11, 'state'), (12, '2'), (13, 'states'), (14, 'three'), (15, 'time')]\n"
     ]
    }
   ],
   "source": [
    "token2id, id2token, _ = index.get_dictionary()\n",
    "print(list(id2token.items())[:15])"
   ]
  },
  {
   "cell_type": "markdown",
   "metadata": {},
   "source": [
    "Using this dictionary we can see the tokens for the (non-stop) words in our example document:"
   ]
  },
  {
   "cell_type": "code",
   "execution_count": 5,
   "metadata": {},
   "outputs": [
    {
     "name": "stdout",
     "output_type": "stream",
     "text": [
      "['52', 'students', 'arrested', 'takeover', 'university', 'massachusetts', 'building', 'fifty', 'two', 'students', 'arrested', 'tuesday', 'evening', 'occupying', 'university', 'massachusetts', 'building', 'overnight', 'protest', 'defense', 'department', 'funded', 'research', 'new', 'york', 'city', 'thousands', 'city', 'college', 'students', 'got', 'unscheduled', 'holiday', 'demonstrators', 'occupied', 'campus', 'administration', 'building', 'protest', 'possible', 'tuition', 'increases', 'prompting', 'officials', 'suspend', 'classes', '60', 'police', 'riot', 'gear', 'arrived', 'university', 'massachusetts', '5', 'p', 'm', 'two', 'hours', 'later', 'bus', 'drove', 'away', '29', 'students', 'camped', 'memorial', 'hall', 'students', 'charged', 'trespassing', '23', 'students', 'arrested', 'lying', 'bus', 'prevent', 'leaving', 'police', '300', 'students', 'stood', 'building', 'chanting', 'looking', 'students', 'hall', 'arrested', '35', 'students', 'occupied', 'memorial', 'hall', '1', 'p', 'm', 'monday', 'declined', 'offer', 'meet', 'administrators', 'provosts', 'office', 'tuesday', 'morning', 'presented', 'list', 'demands', 'halt', 'defense', 'department', 'research', '25', '000', 'student', 'campus', '40', 'students', 'left', 'building', 'tuesday', 'morning', 'university', 'administrators', 'told', 'arrested', '5', 'p', 'm', 'university', 'spokeswoman', 'jeanne', 'hopkins', 'takeover', 'second', 'western', 'massachusetts', 'campus', 'seven', 'protesters', 'arrested', 'april', '19', 'charges', 'disorderly', 'conduct', 'trespassing', 'demonstrating', 'military', 'funded', 'research', 'campus', 'particularly', 'research', 'anthrax', 'research', 'university', 'non', 'classified', 'researchers', 'make', 'work', 'public', 'university', 'rules', '11', '6', 'million', '22', 'percent', 'grant', 'money', 'received', 'university', 'came', 'defense', 'department', '1988', 'school', 'chancellor', 'joseph', 'd', 'duffey', 'issued', 'statement', 'telling', 'students', 'research', 'continue', 'campus', 'school', 'administrators', 'decide', 'differently', 'policy', 'negotiated', 'students', 'duffey', 'latest', 'occupation', 'began', 'students', 'rallying', 'monday', 'student', 'union', 'military', 'research', 'marched', 'administration', 'building', 'ducked', 'memorial', 'hall', 'en', 'route', 'followed', 'members', 'local', 'chapter', 'american', 'friends', 'service', 'committee', 'contended', 'research', 'dangerous', 'town', 'promotes', 'militarism', 'banned', 'university', 'argued', 'purpose', 'anthrax', 'research', 'peaceful', 'strain', 'bacteria', 'non', 'virulent', 'study', 'school', '23', 'years', 'incident', 'amherst', 'health', 'board', 'scheduled', 'hearing', 'wednesday', 'question', 'safety', 'anthrax', 'research', 'tuesday', 'time', '1969', 'classes', 'city', 'college', 'new', 'york', 'canceled', 'student', 'protests', 'school', 'spokesman', 'charles', 'deciccio', 'protesters', 'demanding', 'face', 'face', 'meeting', 'gov', 'mario', 'cuomo', 'feared', 'tuition', 'college', '1', '250', 'increased', 'college', 'staff', 'reduced', 'state', 'budget', 'cuts', 'governor', 'immediate', 'comment', 'tuition', 'set', 'deciccio']\n"
     ]
    }
   ],
   "source": [
    "print([id2token[word_id] for word_id in example_document[1] if word_id > 0])"
   ]
  },
  {
   "cell_type": "markdown",
   "metadata": {},
   "source": [
    "The reverse can also be done, say we want to look for news about the \"University of Massachusetts\", the tokens of that query can be converted to ids using the reverse dictionary:"
   ]
  },
  {
   "cell_type": "code",
   "execution_count": 7,
   "metadata": {},
   "outputs": [
    {
     "name": "stdout",
     "output_type": "stream",
     "text": [
      "Query by tokens: ['university', '', 'massachusetts']\n",
      "Query by ids with stopwords: [200, 0, 894]\n",
      "Query by ids without stopwords: [200, 894]\n"
     ]
    }
   ],
   "source": [
    "query_tokens = index.tokenize(\"University of Massachusetts\")\n",
    "print(\"Query by tokens:\", query_tokens)\n",
    "query_id_tokens = [token2id.get(query_token,0) for query_token in query_tokens]\n",
    "print(\"Query by ids with stopwords:\", query_id_tokens)\n",
    "query_id_tokens = [word_id for word_id in query_id_tokens if word_id > 0]\n",
    "print(\"Query by ids without stopwords:\", query_id_tokens)"
   ]
  },
  {
   "cell_type": "markdown",
   "metadata": {},
   "source": [
    "Naturally we can now match the document and query in the id space, let's see how often a word from the query occurs in our example document:"
   ]
  },
  {
   "cell_type": "code",
   "execution_count": 8,
   "metadata": {},
   "outputs": [
    {
     "name": "stdout",
     "output_type": "stream",
     "text": [
      "Document AP890425-0001 has 13 word matches with query: \"university  massachusetts\".\n",
      "Document AP890425-0001 and query \"university  massachusetts\" have a 2.5% overlap.\n"
     ]
    }
   ],
   "source": [
    "matching_words = sum([True for word_id in example_document[1] if word_id in query_id_tokens])\n",
    "print(\"Document %s has %d word matches with query: \\\"%s\\\".\" % (example_document[0], matching_words, ' '.join(query_tokens)))\n",
    "print(\"Document %s and query \\\"%s\\\" have a %.01f%% overlap.\" % (example_document[0], ' '.join(query_tokens),matching_words/float(len(example_document[1]))*100))"
   ]
  },
  {
   "cell_type": "markdown",
   "metadata": {},
   "source": [
    "While this is certainly not everything Pyndri can do, it should give you an idea of how to use it. Please take a look at the [examples](https://github.com/cvangysel/pyndri) as it will help you a lot with this assignment.\n",
    "\n",
    "**CAUTION**: Avoid printing out the whole index in this Notebook as it will generate a lot of output and is likely to corrupt the Notebook."
   ]
  },
  {
   "cell_type": "markdown",
   "metadata": {},
   "source": [
    "### Parsing the query file\n",
    "You can parse the query file (`ap_88_89/topics_title`) using the following snippet:"
   ]
  },
  {
   "cell_type": "code",
   "execution_count": 6,
   "metadata": {
    "collapsed": true
   },
   "outputs": [],
   "source": [
    "import collections\n",
    "import io\n",
    "import logging\n",
    "import sys\n",
    "\n",
    "def parse_topics(file_or_files,\n",
    "                 max_topics=sys.maxsize, delimiter=';'):\n",
    "    assert max_topics >= 0 or max_topics is None\n",
    "\n",
    "    topics = collections.OrderedDict()\n",
    "\n",
    "    if not isinstance(file_or_files, list) and \\\n",
    "            not isinstance(file_or_files, tuple):\n",
    "        if hasattr(file_or_files, '__iter__'):\n",
    "            file_or_files = list(file_or_files)\n",
    "        else:\n",
    "            file_or_files = [file_or_files]\n",
    "\n",
    "    for f in file_or_files:\n",
    "        assert isinstance(f, io.IOBase)\n",
    "\n",
    "        for line in f:\n",
    "            assert(isinstance(line, str))\n",
    "\n",
    "            line = line.strip()\n",
    "\n",
    "            if not line:\n",
    "                continue\n",
    "\n",
    "            topic_id, terms = line.split(delimiter, 1)\n",
    "\n",
    "            if topic_id in topics and (topics[topic_id] != terms):\n",
    "                    logging.error('Duplicate topic \"%s\" (%s vs. %s).',\n",
    "                                  topic_id,\n",
    "                                  topics[topic_id],\n",
    "                                  terms)\n",
    "\n",
    "            topics[topic_id] = terms\n",
    "\n",
    "            if max_topics > 0 and len(topics) >= max_topics:\n",
    "                break\n",
    "\n",
    "    return topics\n",
    "ordered_dict=[]\n",
    "with open('./ap_88_89/topics_title', 'r') as f_topics:\n",
    "      ordered_dict=parse_topics([f_topics])"
   ]
  },
  {
   "cell_type": "markdown",
   "metadata": {},
   "source": [
    "### Task 1: Implement and compare lexical IR methods [35 points] ### \n",
    "\n",
    "In this task you will implement a number of lexical methods for IR using the **Pyndri** framework. Then you will evaluate these methods on the dataset we have provided using **TREC Eval**.\n",
    "\n",
    "Use the **Pyndri** framework to get statistics of the documents (term frequency, document frequency, collection frequency; **you are not allowed to use the query functionality of Pyndri**) and implement the following scoring methods in **Python**:\n",
    "\n",
    "- [TF-IDF](http://nlp.stanford.edu/IR-book/html/htmledition/tf-idf-weighting-1.html) and \n",
    "- [BM25](http://nlp.stanford.edu/IR-book/html/htmledition/okapi-bm25-a-non-binary-model-1.html) with k1=1.2 and b=0.75. **[5 points]**\n",
    "- Language models ([survey](https://drive.google.com/file/d/0B-zklbckv9CHc0c3b245UW90NE0/view))\n",
    "    - Jelinek-Mercer (explore different values of 𝛌 in the range [0.1, 0.5, 0.9]). **[5 points]**\n",
    "    - Dirichlet Prior (explore different values of 𝛍 [500, 1000, 1500]). **[5 points]**\n",
    "    - Absolute discounting (explore different values of 𝛅 in the range [0.1, 0.5, 0.9]). **[5 points]**\n",
    "    - [Positional Language Models](http://sifaka.cs.uiuc.edu/~ylv2/pub/sigir09-plm.pdf) define a language model for each position of a document, and score a document based on the scores of its PLMs. The PLM is estimated based on propagated counts of words within a document through a proximity-based density function, which both captures proximity heuristics and achieves an effect of “soft” passage retrieval. Implement the PLM, all five kernels, but only the Best position strategy to score documents. Use 𝛔 equal to 50, and Dirichlet smoothing with 𝛍 optimized on the validation set (decide how to optimize this value yourself and motivate your decision in the report). **[10 points]**\n",
    "    \n",
    "Implement the above methods and report evaluation measures (on the test set) using the hyper parameter values you optimized on the validation set (also report the values of the hyper parameters). Use TREC Eval to obtain the results and report on `NDCG@10`, Mean Average Precision (`MAP@1000`), `Precision@5` and `Recall@1000`.\n",
    "\n",
    "For the language models, create plots showing `NDCG@10` with varying values of the parameters. You can do this by chaining small scripts using shell scripting (preferred) or execute trec_eval using Python's `subprocess`.\n",
    "\n",
    "Compute significance of the results using a [two-tailed paired Student t-test](https://docs.scipy.org/doc/scipy/reference/generated/scipy.stats.ttest_rel.html) **[5 points]**. Be wary of false rejection of the null hypothesis caused by the [multiple comparisons problem](https://en.wikipedia.org/wiki/Multiple_comparisons_problem). There are multiple ways to mitigate this problem and it is up to you to choose one.\n",
    "\n",
    "Analyse the results by identifying specific queries where different methods succeed or fail and discuss possible reasons that cause these differences. This is *very important* in order to understand who the different retrieval functions behave.\n",
    "\n",
    "**NOTE**: Don’t forget to use log computations in your calculations to avoid underflows. "
   ]
  },
  {
   "cell_type": "markdown",
   "metadata": {},
   "source": [
    "**IMPORTANT**: You should structure your code around the helper functions we provide below."
   ]
  },
  {
   "cell_type": "code",
   "execution_count": 20,
   "metadata": {},
   "outputs": [
    {
     "name": "stdout",
     "output_type": "stream",
     "text": [
      "Gathering statistics about 456 terms.\n",
      "Done\n"
     ]
    }
   ],
   "source": [
    "with open('./ap_88_89/topics_title', 'r') as f_topics:\n",
    "    queries = parse_topics([f_topics])\n",
    "\n",
    "index = pyndri.Index('index/')\n",
    "\n",
    "num_documents = index.maximum_document() - index.document_base()\n",
    "\n",
    "dictionary = pyndri.extract_dictionary(index)\n",
    "\n",
    "tokenized_queries = {\n",
    "    query_id: [dictionary.translate_token(token)\n",
    "               for token in index.tokenize(query_string)\n",
    "               if dictionary.has_token(token)]\n",
    "    for query_id, query_string in queries.items()}\n",
    "\n",
    "query_term_ids = set(\n",
    "    query_term_id\n",
    "    for query_term_ids in tokenized_queries.values()\n",
    "    for query_term_id in query_term_ids)\n",
    "\n",
    "print('Gathering statistics about', len(query_term_ids), 'terms.')\n",
    "\n",
    "# inverted index creation.\n",
    "\n",
    "document_lengths = {}\n",
    "unique_terms_per_document = {}\n",
    "\n",
    "inverted_index = collections.defaultdict(dict)\n",
    "collection_frequencies = collections.defaultdict(int)\n",
    "\n",
    "total_terms = 0\n",
    "\n",
    "for int_doc_id in range(index.document_base(), index.maximum_document()):\n",
    "    ext_doc_id, doc_token_ids = index.document(int_doc_id)\n",
    "\n",
    "    document_bow = collections.Counter(\n",
    "        token_id for token_id in doc_token_ids\n",
    "        if token_id > 0)\n",
    "    document_length = sum(document_bow.values())\n",
    "\n",
    "    document_lengths[int_doc_id] = document_length\n",
    "    total_terms += document_length\n",
    "\n",
    "    unique_terms_per_document[int_doc_id] = len(document_bow)\n",
    "\n",
    "    for query_term_id in query_term_ids:\n",
    "        assert query_term_id is not None\n",
    "\n",
    "        document_term_frequency = document_bow.get(query_term_id, 0)\n",
    "\n",
    "        if document_term_frequency == 0:\n",
    "            continue\n",
    "\n",
    "        collection_frequencies[query_term_id] += document_term_frequency\n",
    "        inverted_index[query_term_id][int_doc_id] = document_term_frequency\n",
    "\n",
    "avg_doc_length = total_terms / num_documents\n",
    "print('Done')"
   ]
  },
  {
   "cell_type": "code",
   "execution_count": 8,
   "metadata": {
    "collapsed": true
   },
   "outputs": [],
   "source": [
    "def run_retrieval(model_name, score_fn):\n",
    "    \"\"\"\n",
    "    Runs a retrieval method for all the queries and writes the TREC-friendly results in a file.\n",
    "    \n",
    "    :param model_name: the name of the model (a string)\n",
    "    :param score_fn: the scoring function (a function - see below for an example) \n",
    "    \"\"\"\n",
    "    run_out_path = '{}.run'.format(model_name)\n",
    "\n",
    "    if os.path.exists(run_out_path):\n",
    "        return\n",
    "\n",
    "    retrieval_start_time = time.time()\n",
    "\n",
    "    print('Retrieving using', model_name)\n",
    "\n",
    "    data = {}\n",
    "\n",
    "    # TODO: fill the data dictionary. \n",
    "    # The dictionary data should have the form: query_id --> (document_score, external_doc_id)\n",
    "    \n",
    "    with open(run_out_path, 'w') as f_out:\n",
    "        write_run(\n",
    "            model_name=model_name,\n",
    "            data=data,\n",
    "            out_f=f_out,\n",
    "            max_objects_per_query=1000)"
   ]
  },
  {
   "cell_type": "code",
   "execution_count": 29,
   "metadata": {},
   "outputs": [
    {
     "name": "stdout",
     "output_type": "stream",
     "text": [
      "0.169164480864\n"
     ]
    }
   ],
   "source": [
    "def tfidf(int_document_id, query_term_id, document_term_freq):\n",
    "    \"\"\"\n",
    "    Scoring function for a document and a query term\n",
    "    \n",
    "    :param int_document_id: the document id\n",
    "    :param query_token_id: the query term id (assuming you have split the query to tokens)\n",
    "    :param document_term_freq: the document term frequency of the query term \n",
    "    \"\"\"\n",
    "    # TODO implement the function\n",
    "    score = 0\n",
    "    document_lenght=document_lengths[int_document_id]\n",
    "    tf=np.log(1+(document_term_freq/document_lenght))\n",
    "    idf=np.log(num_documents/len(inverted_index[query_term_id]))\n",
    "    score=tf*idf\n",
    "    return score\n",
    "\n",
    "\n",
    "def create_vector_query(query_tokens):\n",
    "    dic={}\n",
    "    count=0\n",
    "    for i in range(0,len(query_tokens)):\n",
    "        if (query_tokens[i] not in dic):\n",
    "            dic[query_tokens[i]]=count\n",
    "            count=count+1\n",
    "    vector=np.zeros(len(dic))\n",
    "    for i in range(0,len(query_tokens)):\n",
    "        index=dic[query_tokens[i]]\n",
    "        vector[index]=vector[index]+1\n",
    "    return vector,dic\n",
    "def create_vector(dic,doc_tokens):\n",
    "    vector=np.zeros(len(dic))\n",
    "    for key in doc_tokens.keys():\n",
    "        index=dic[key]\n",
    "        vector[index]=doc_tokens[key]\n",
    "    return vector\n",
    "def calc_euclidean_vector(vector):\n",
    "    distance=0\n",
    "    for i in range(0,len(vector)):\n",
    "        distance=distance+vector[i]*vector[i]\n",
    "    return math.sqrt(distance)\n",
    "def sort_docs_by_score(list_docs):\n",
    "    list_docs.sort(key=itemgetter(1), reverse=True)\n",
    "    return list_docs\n",
    "def create_doc_dict_on_query(query_tokens):\n",
    "    doc_dict={}\n",
    "    for token in query_tokens:\n",
    "        temp_dict=inverted_index[token]\n",
    "        for doc_id in temp_dict.keys():\n",
    "            word_count=temp_dict[doc_id]\n",
    "            if(doc_id not in doc_dict):\n",
    "                doc_dict[doc_id]={}\n",
    "            doc_dict[doc_id][token]=word_count\n",
    "    return doc_dict\n",
    "\n",
    "# function to calcuate score for all the docs based on query\n",
    "def get_tf_idf_get_score_doc(query_id,docu_id):\n",
    "    query_tokens=tokenized_queries[query_id]    \n",
    "    query_vector,dic=create_vector_query(query_tokens)\n",
    "    doc_dict={}\n",
    "    doc_vector=np.zeros(len(dic))\n",
    "    ind=-1\n",
    "    count=0\n",
    "    for token in query_tokens:\n",
    "        word_count=0\n",
    "        if(docu_id in inverted_index[token]):\n",
    "            word_count=inverted_index[token][docu_id]\n",
    "        ind=0   \n",
    "        for key_temp in dic.keys():\n",
    "            if(key_temp==token):\n",
    "                tf_idf_weight=tfidf(docu_id,token,word_count)\n",
    "                doc_vector[ind]=tf_idf_weight*word_count\n",
    "            else:\n",
    "                ind=ind+1\n",
    "    query_eucli=calc_euclidean_vector(query_vector)\n",
    "    similarity=cosine_similarity(doc_vector.reshape(1,len(doc_vector)),query_vector.reshape(1,len(doc_vector)))/(calc_euclidean_vector(doc_vector)*query_eucli)\n",
    "    \n",
    "    #scores=sort_docs_by_score(scores)\n",
    "    return similarity[0][0]\n",
    "    \n",
    "\n",
    "# query _tokens for a given query id\n",
    "#query_tokens=tokenized_queries['191']    \n",
    "tf_idf_scores=get_tf_idf_get_score_doc('191',137864)\n",
    "print(tf_idf_scores)\n",
    "    \n",
    "# combining the two functions above: \n",
    "#run_retrieval('tfidf', tfidf)\n",
    "\n",
    "# TODO implement the rest of the retrieval functions \n",
    "\n",
    "# TODO implement tools to help you with the analysis of the results."
   ]
  },
  {
   "cell_type": "code",
   "execution_count": 31,
   "metadata": {},
   "outputs": [
    {
     "name": "stdout",
     "output_type": "stream",
     "text": [
      "0.0\n"
     ]
    }
   ],
   "source": [
    "def get_tf_idf_bm25(int_document_id, query_term_id, document_term_freq):\n",
    "    score = 0\n",
    "    document_lenght=document_lengths[int_document_id]\n",
    "    tf=np.log(1+(document_term_freq/document_lenght))\n",
    "    idf=np.log(num_documents/len(inverted_index[query_term_id]))\n",
    "    return tf,idf,document_lenght\n",
    "\n",
    "\n",
    "def get_bm25_scores(query_id,doc_id):\n",
    "    k1=1.2\n",
    "    b=0.75\n",
    "    query_tokens=tokenized_queries[query_id]    \n",
    "    score=1  \n",
    "    for query_token_id in query_tokens:\n",
    "        count=0\n",
    "        if(doc_id in inverted_index[query_token_id]):\n",
    "            count=inverted_index[query_token_id][doc_id]\n",
    "        tf,idf,document_lenght=get_tf_idf_bm25(doc_id, query_token_id,count)\n",
    "        indv_score=(((k1+1)*tf)/(k1*((1-b)+b*(document_lenght/avg_doc_length))+tf))*idf\n",
    "        score=score*indv_score\n",
    "         \n",
    "\n",
    "    return score\n",
    "bm_25_scores=get_bm25_scores('191',137864)    \n",
    "print(bm_25_scores)        \n",
    "    \n",
    "    \n",
    "    "
   ]
  },
  {
   "cell_type": "code",
   "execution_count": 36,
   "metadata": {},
   "outputs": [
    {
     "data": {
      "text/plain": [
       "1.5032210341918877e-18"
      ]
     },
     "execution_count": 36,
     "metadata": {},
     "output_type": "execute_result"
    }
   ],
   "source": [
    "def smoothing_jelenick_mercer(query_id,doc_id,lam):\n",
    "    query_tokens=tokenized_queries[query_id]  \n",
    "    doc_dict={}\n",
    "    score=1\n",
    "    for token in query_tokens:\n",
    "        word_count=0\n",
    "        if(doc_id in inverted_index[token]):\n",
    "            word_count=inverted_index[token][doc_id]\n",
    "        corpus_count=collection_frequencies[token]\n",
    "        tf_corpus=np.log(1+(corpus_count/total_terms))\n",
    "        tf,idf,doc_length=get_tf_idf_bm25(doc_id,token,word_count)\n",
    "        score=score*(lam*(tf)+(1-lam)*tf_corpus)\n",
    "    return score\n",
    "\n",
    "        \n",
    "smoothing_jelenick_mercer('191',137864,0.1)\n",
    "    "
   ]
  },
  {
   "cell_type": "code",
   "execution_count": 39,
   "metadata": {},
   "outputs": [
    {
     "data": {
      "text/plain": [
       "1.7875880609803646e-19"
      ]
     },
     "execution_count": 39,
     "metadata": {},
     "output_type": "execute_result"
    }
   ],
   "source": [
    "def smoothing_dirchlet(query_id,doc_id,mu):\n",
    "    query_tokens=tokenized_queries[query_id]  \n",
    "    doc_dict={}\n",
    "    score=1\n",
    "    doc_len=document_lengths[doc_id]\n",
    "    for token in query_tokens:\n",
    "        word_count=0\n",
    "        if(doc_id in inverted_index[token]):\n",
    "            word_count=inverted_index[token][doc_id]\n",
    "        corpus_count=collection_frequencies[token]\n",
    "        tf_corpus=np.log(1+(corpus_count/total_terms))\n",
    "        tf,idf,doc_length=get_tf_idf_bm25(doc_id,token,word_count)\n",
    "        score=score*((doc_len/(doc_len+mu))*(tf)+(mu/(mu+doc_len))*tf_corpus)\n",
    "    return score\n",
    "\n",
    "        \n",
    "smoothing_dirchlet('191',137864,500)"
   ]
  },
  {
   "cell_type": "code",
   "execution_count": 41,
   "metadata": {},
   "outputs": [
    {
     "data": {
      "text/plain": [
       "5.0226178908037107e-07"
      ]
     },
     "execution_count": 41,
     "metadata": {},
     "output_type": "execute_result"
    }
   ],
   "source": [
    "def absolute_discounting(query_id,doc_id,delta):\n",
    "    query_tokens=tokenized_queries[query_id]  \n",
    "    doc_dict={}\n",
    "    score=1\n",
    "    doc_len=document_lengths[doc_id]\n",
    "    for token in query_tokens:\n",
    "        word_count=0\n",
    "        if(doc_id in inverted_index[token]):\n",
    "            word_count=inverted_index[token][doc_id]\n",
    "        corpus_count=collection_frequencies[token]\n",
    "        tf_corpus=np.log(1+(corpus_count/total_terms))\n",
    "        tf,idf,doc_length=get_tf_idf_bm25(doc_id,token,word_count)\n",
    "        score=score*(max(tf-delta,0))+(delta*unique_terms_per_document[doc_id]*tf_corpus)/doc_len\n",
    "    return score\n",
    "\n",
    "        \n",
    "absolute_discounting('191',137864,0.1)"
   ]
  },
  {
   "cell_type": "code",
   "execution_count": null,
   "metadata": {},
   "outputs": [
    {
     "name": "stdout",
     "output_type": "stream",
     "text": [
      "-8.533368360374686\n",
      "-8.453532711071329\n",
      "-8.0503068943344\n",
      "-8.045516285876463\n",
      "-8.495363795422932\n",
      "-8.678141317318776\n",
      "-8.567323591424472\n",
      "-8.631333036439276\n",
      "-8.428209107457818\n",
      "-8.731533784187292\n",
      "-8.55673858464481\n",
      "-8.59862204704925\n",
      "-8.89688065320356\n",
      "-8.46836564396225\n",
      "-8.129473500803215\n",
      "-8.444504444269873\n",
      "-8.545952638050867\n",
      "-8.408437285939787\n",
      "-8.024453581883966\n",
      "-8.562726901260401\n",
      "-8.151048343202968\n",
      "-8.606110884578854\n",
      "-7.942584838787326\n",
      "-8.672826051401886\n",
      "-8.462464177694393\n",
      "-8.6159888899872\n",
      "-8.473251702526381\n",
      "-8.355680067718314\n",
      "-8.415775966258444\n",
      "-8.458459666559008\n",
      "-8.638575562195289\n",
      "-8.53968469901638\n",
      "-8.506573976964937\n",
      "-8.528826679194049\n",
      "-8.50291838939014\n",
      "-8.427384973518883\n",
      "-8.549512845411996\n",
      "-8.358553116218415\n",
      "-7.8883816003853315\n",
      "-8.69461740765431\n",
      "-8.441473176969762\n",
      "-8.545060155892136\n",
      "-8.500093515589022\n",
      "-8.210739952689238\n",
      "-8.408437285939787\n",
      "-8.155300366197492\n",
      "-8.366304621128325\n",
      "-8.275304770032559\n",
      "-8.09381399577527\n",
      "-8.647082441452094\n",
      "-8.458506465671848\n",
      "-8.22849525192448\n",
      "-8.172104924061674\n",
      "-8.209744109741587\n",
      "-8.31590061297696\n",
      "-8.611065047480077\n",
      "-8.431288771893389\n",
      "-8.406328691283086\n",
      "-8.54148044792128\n",
      "-8.177635437213755\n",
      "-8.011331051223936\n",
      "-8.09077626936906\n",
      "-8.773507503335022\n",
      "-8.530646372904483\n",
      "-8.35668382541261\n",
      "-8.482938307665918\n",
      "-8.340489278413575\n",
      "-8.325524624275035\n",
      "-8.292088123797274\n",
      "-8.379515812270673\n",
      "-8.452534385583206\n",
      "-8.22719427841362\n",
      "-8.46741353166212\n",
      "-8.370752605457769\n",
      "-8.758630408738107\n",
      "-8.731533784187292\n",
      "-8.372951934621728\n",
      "-8.33934744039541\n",
      "-8.234970978181256\n",
      "-8.64412400236899\n",
      "-8.312653878152947\n",
      "-8.402095571822727\n",
      "-8.341756191387306\n",
      "-8.03261370461246\n",
      "-8.687918714509777\n",
      "-8.80048773910765\n",
      "-8.225891349436111\n",
      "-8.305550910289917\n",
      "-8.364120124046737\n",
      "-8.706387228870527\n",
      "-8.208772793282405\n",
      "-8.326685126359585\n",
      "-8.165142205178121\n",
      "-8.26664150532437\n",
      "-8.478758784760785\n",
      "-8.586832868006361\n",
      "-8.069214962868239\n",
      "-7.6461031533254005\n",
      "-8.706387228870527\n",
      "-8.133831080964233\n",
      "-8.638706133502199\n",
      "-8.348439508551387\n",
      "-8.343905626050082\n",
      "-8.23754777016769\n",
      "-8.518745575142978\n",
      "-8.107355912127984\n",
      "-8.142481930927934\n",
      "-8.056654449400858\n",
      "-8.436396485714697\n",
      "-8.101362917956061\n",
      "-8.574869393285084\n",
      "-8.114790329419495\n",
      "-8.394443426296805\n",
      "-8.618439545410466\n",
      "-8.158511433369066\n",
      "-8.613530737833294\n",
      "-8.828145210471257\n",
      "-8.409338384801304\n",
      "-8.536983662777558\n",
      "-8.510404396752852\n",
      "-8.458506465671848\n",
      "-8.835862108431469\n",
      "-8.110337207604664\n",
      "-8.45053413906725\n",
      "-8.612709680684288\n",
      "-8.560977361777073\n",
      "-8.651984000407394\n",
      "-8.490205926318858\n",
      "-8.455525779647399\n",
      "-8.607765661936408\n",
      "-8.716543038285781\n",
      "-8.692390830159267\n",
      "-8.354073048590458\n",
      "-8.120693023863886\n",
      "-8.076975858210261\n",
      "-8.283881662136737\n",
      "-8.717983180205819\n",
      "-8.520587733794411\n",
      "-8.723717376914248\n",
      "-8.238833295010537\n",
      "-8.128016160950633\n",
      "-8.159531851731133\n",
      "-8.814581861454759\n",
      "-8.568820826983861\n",
      "-8.602791097625392\n",
      "-8.445512425146\n",
      "-8.489652145860468\n",
      "-8.591063058044062\n",
      "-8.664400770826685\n",
      "-8.355195284962479\n",
      "-8.215396856585457\n",
      "-8.545060155892136\n",
      "-8.07049101654874\n",
      "-8.50291838939014\n",
      "-8.320324115162121\n",
      "-8.521507266321436\n",
      "-8.104364503830132\n",
      "-8.155300366197492\n",
      "-8.194019773467586\n",
      "-7.875397973676828\n",
      "-8.21407607835122\n",
      "-8.355195284962479\n",
      "-8.501036215544147\n",
      "-8.597785645284006\n",
      "-8.675867715576691\n",
      "-8.202097865125607\n",
      "-8.651201479854496\n",
      "-8.438430865527005\n",
      "-8.153885316362283\n",
      "-8.659767179034235\n",
      "-8.41473150219623\n",
      "-8.49631190972176\n",
      "-8.615170340946776\n",
      "-8.224586459497484\n",
      "-8.623318530243933\n",
      "-8.591535916577346\n",
      "-8.066091472026113\n",
      "-8.563600262568459\n",
      "-8.31500848424221\n",
      "-8.271602612694883\n",
      "-8.475198099195657\n",
      "-8.220659968622124\n",
      "-8.560101179935979\n",
      "-8.035856932524919\n",
      "-8.628168017351221\n",
      "-8.53968469901638\n",
      "-8.09532895133532\n",
      "-8.51412203381971\n",
      "-8.249049280361666\n",
      "-8.36633672790123\n",
      "-8.347308303235817\n",
      "-8.697813881734666\n",
      "-8.351824115172512\n",
      "-8.560101179935979\n",
      "-8.099114541837931\n",
      "-8.408437285939787\n",
      "-8.254112336010703\n",
      "-7.892188895555864\n",
      "-8.33934744039541\n",
      "-8.38710976859307\n",
      "-8.09077626936906\n",
      "-8.249049280361666\n",
      "-8.538785343963788\n",
      "-8.723002898493927\n",
      "-8.142481930927934\n",
      "-8.6060168389231\n",
      "-8.33246406269548\n",
      "-8.506669895286699\n",
      "-8.235829768999128\n",
      "-8.467384972399444\n",
      "-8.660541323633652\n",
      "-8.451534862460697\n",
      "-8.125094216461676\n",
      "-8.479077240298174\n",
      "-8.8643244516195\n",
      "-8.59359058891726\n",
      "-8.737895620941092\n",
      "-8.723002898493927\n",
      "-8.174874557004554\n",
      "-8.604452700702996\n",
      "-8.79864558624367\n",
      "-8.350697410832083\n",
      "-8.687918714509777\n",
      "-8.633428207822885\n",
      "-8.120693023863886\n"
     ]
    }
   ],
   "source": [
    "def guassian_kernel(i,j,sigma):\n",
    "    value=math.exp(-(i-j)/(2*sigma*sigma))\n",
    "    return value\n",
    "def triangle_kernel(i,j,sigma):\n",
    "    value=0\n",
    "    if(abs(i-j)<=sigma):\n",
    "        value=1-(abs(i-j))/sigma\n",
    "    return value\n",
    "def cosine_kernel(i,j,sigma):\n",
    "    value=0\n",
    "    if(abs(i-j)<=sigma):\n",
    "        value=0.5*(1+math.cos(abs(i-j)*pi/sigma))\n",
    "    return value\n",
    "def circle_kernel(i,j,sigma):\n",
    "    value=0\n",
    "    if(abs(i-j)<=sigma):\n",
    "        value=math.sqrt(1-math.pow((i-j)/sigma,2))\n",
    "    return value\n",
    "def passge_kernel(i,j,sigma):\n",
    "    value=0\n",
    "    if(abs(i-j)<=sigma):\n",
    "        value=1\n",
    "    return value\n",
    "def call_kernal(i,j,sigma,kernel_index):\n",
    "    if(kernel_index==1):\n",
    "        return guassian_kernel(i,j,sigma)\n",
    "    if(kernel_index==2):\n",
    "        return triangle_kernel(i,j,sigma)\n",
    "    if(kernel_index==3):\n",
    "        return cosine_kernel(i,j,sigma)\n",
    "    if(kernel_index==4):\n",
    "        return circle_kernel(i,j,sigma)\n",
    "    if(kernel_index==5):\n",
    "        return passge_kernel(i,j,sigma)\n",
    "    \n",
    "    \n",
    "def c_all_w_i(index,doc_token_ids,sigma,kernal_index):\n",
    "    total_c=0\n",
    "    le=len(doc_token_ids)\n",
    "    for i in range(0,le):\n",
    "        total_c=total_c+call_kernal(i,index,sigma,kernal_index)\n",
    "    return total_c\n",
    "def plm(query_id,doc_id,kernel_index,index,mu,sigma):\n",
    "    sigma=50\n",
    "    query_tokens=tokenized_queries[query_id]  \n",
    "    ext_doc_id, doc_token_ids = index.document(doc_id)\n",
    "    score={}\n",
    "    le=len(doc_token_ids)\n",
    "    for token in query_tokens:\n",
    "        if(token in doc_token_ids):\n",
    "            c_token_i=0\n",
    "            word_index=[]\n",
    "            for j in range(0,le):\n",
    "                if(token==doc_token_ids[j]):\n",
    "                    word_index.append(j)\n",
    "            for index in word_index:\n",
    "                for i in range(0,le):\n",
    "                    c_w_i=call_kernal(index,j,sigma,kernel_index)\n",
    "                    total_c=c_all_w_i(i,doc_token_ids,sigma,kernel_index)\n",
    "                    prob_c_w=c_w_i/total_c\n",
    "                    if(token in score):\n",
    "                        if(i in score[token]):\n",
    "                            if(score[token][i]<prob_c_w):\n",
    "                                score[token][i]=prob_c_w\n",
    "                        else:\n",
    "                            score[token][i]=prob_c_w\n",
    "                    else:\n",
    "                        score[token]={}\n",
    "                        score[token][i]=prob_c_w\n",
    "    le_query=len(query_tokens)\n",
    "    query_dict={}\n",
    "    for token in query_tokens:\n",
    "        if(token in query_dict):\n",
    "            val=query_dict[token]\n",
    "            query_dict[token]=val+1\n",
    "        else:\n",
    "            query_dict[token]=1\n",
    "    tot_query_sum=[]\n",
    "    for i in range(0,le):\n",
    "        c_token_i=0\n",
    "        s_d_q_i=0\n",
    "        for token in query_tokens:\n",
    "            prob_token_query=query_dict[token]/le_query\n",
    "            if(token in score):\n",
    "                c_token_i=score[token][i]\n",
    "            corpus_count=collection_frequencies[token]\n",
    "            tf_corpus=np.log(1+(corpus_count/total_terms))\n",
    "            total_c=c_all_w_i(i,doc_token_ids,sigma,kernel_index)\n",
    "            c_w_i=(c_token_i+mu*tf_corpus)/(total_c+mu)\n",
    "            s_d_q_i=s_d_q_i-prob_token_query*(math.log(prob_token_query/c_w_i))\n",
    "        tot_query_sum.append([i,s_d_q_i])                  \n",
    "    tot_query_sum.sort(key=itemgetter(1), reverse=True)\n",
    "    return tot_query_sum[0][1]\n",
    "for i in range(1,500):                \n",
    "    print(plm('191',i,1,index,500,50))\n",
    "\n"
   ]
  },
  {
   "cell_type": "markdown",
   "metadata": {},
   "source": [
    "### Task 2: Latent Semantic Models (LSMs) [15 points] ###\n",
    "\n",
    "In this task you will experiment with applying distributional semantics methods ([LSI](http://lsa3.colorado.edu/papers/JASIS.lsi.90.pdf) **[5 points]** and [LDA](https://www.cs.princeton.edu/~blei/papers/BleiNgJordan2003.pdf) **[5 points]**) for retrieval.\n",
    "\n",
    "You do not need to implement LSI or LDA on your own. Instead, you can use [gensim](http://radimrehurek.com/gensim/index.html). An example on how to integrate Pyndri with Gensim for word2vec can be found [here](https://github.com/cvangysel/pyndri/blob/master/examples/word2vec.py). For the remaining latent vector space models, you will need to implement connector classes (such as `IndriSentences`) by yourself.\n",
    "\n",
    "In order to use a latent semantic model for retrieval, you need to:\n",
    "   * build a representation of the query **q**,\n",
    "   * build a representation of the document **d**,\n",
    "   * calculate the similarity between **q** and **d** (e.g., cosine similarity, KL-divergence).\n",
    "     \n",
    "The exact implementation here depends on the latent semantic model you are using. \n",
    "   \n",
    "Each of these LSMs come with various hyperparameters to tune. Make a choice on the parameters, and explicitly mention the reasons that led you to these decisions. You can use the validation set to optimize hyper parameters you see fit; motivate your decisions. In addition, mention clearly how the query/document representations were constructed for each LSM and explain your choices.\n",
    "\n",
    "In this experiment, you will first obtain an initial top-1000 ranking for each query using TF-IDF in **Task 1**, and then re-rank the documents using the LSMs. Use TREC Eval to obtain the results and report on `NDCG@10`, Mean Average Precision (`MAP@1000`), `Precision@5` and `Recall@1000`.\n",
    "\n",
    "Perform significance testing **[5 points]** (similar as in Task 1) in the class of semantic matching methods."
   ]
  },
  {
   "cell_type": "code",
   "execution_count": null,
   "metadata": {
    "collapsed": true
   },
   "outputs": [],
   "source": []
  },
  {
   "cell_type": "markdown",
   "metadata": {},
   "source": [
    "### Task 3:  Word embeddings for ranking [20 points] (open-ended) ###\n",
    "\n",
    "First create word embeddings on the corpus we provided using [word2vec](http://arxiv.org/abs/1411.2738) -- [gensim implementation](https://radimrehurek.com/gensim/models/word2vec.html). You should extract the indexed documents using pyndri and provide them to gensim for training a model (see example [here](https://github.com/nickvosk/pyndri/blob/master/examples/word2vec.py)).\n",
    "   \n",
    "This is an open-ended task. It is left up you to decide how you will combine word embeddings to derive query and document representations. Note that since we provide the implementation for training word2vec, you will be graded based on your creativity on combining word embeddings for building query and document representations.\n",
    "\n",
    "Note: If you want to experiment with pre-trained word embeddings on a different corpus, you can use the word embeddings we provide alongside the assignment (./data/reduced_vectors_google.txt.tar.gz). These are the [google word2vec word embeddings](https://code.google.com/archive/p/word2vec/), reduced to only the words that appear in the document collection we use in this assignment."
   ]
  },
  {
   "cell_type": "code",
   "execution_count": null,
   "metadata": {
    "collapsed": true
   },
   "outputs": [],
   "source": []
  },
  {
   "cell_type": "markdown",
   "metadata": {},
   "source": [
    "### Task 4: Learning to rank (LTR) [15 points] (open-ended) ###\n",
    "\n",
    "In this task you will get an introduction into learning to rank for information retrieval.\n",
    "\n",
    "You can explore different ways for devising features for the model. Obviously, you can use the retrieval methods you implemented in Task 1, Task 2 and Task 3 as features. Think about other features you can use (e.g. query/document length). Creativity on devising new features and providing motivation for them will be taken into account when grading.\n",
    "\n",
    "For every query, first create a document candidate set using the top-1000 documents using TF-IDF, and subsequently compute features given a query and a document. Note that the feature values of different retrieval methods are likely to be distributed differently.\n",
    "\n",
    "You are adviced to start some pointwise learning to rank algorithm e.g. logistic regression, implemented in [scikit-learn](http://scikit-learn.org/stable/modules/generated/sklearn.linear_model.LogisticRegression.html).\n",
    "Train your LTR model using 10-fold cross validation on the test set. More advanced learning to rank algorithms will be appreciated when grading."
   ]
  },
  {
   "cell_type": "code",
   "execution_count": null,
   "metadata": {
    "collapsed": true
   },
   "outputs": [],
   "source": []
  },
  {
   "cell_type": "markdown",
   "metadata": {
    "collapsed": true
   },
   "source": [
    "### Task 4: Write a report [15 points; instant FAIL if not provided] ###\n",
    "\n",
    "The report should be a PDF file created using the [sigconf ACM template](https://www.acm.org/publications/proceedings-template) and will determine a significant part of your grade.\n",
    "\n",
    "   * It should explain what you have implemented, motivate your experiments and detail what you expect to learn from them. **[10 points]**\n",
    "   * Lastly, provide a convincing analysis of your results and conclude the report accordingly. **[10 points]**\n",
    "      * Do all methods perform similarly on all queries? Why?\n",
    "      * Is there a single retrieval model that outperforms all other retrieval models (i.e., silver bullet)?\n",
    "      * ...\n",
    "\n",
    "**Hand in the report and your self-contained implementation source files.** Only send us the files that matter, organized in a well-documented zip/tgz file with clear instructions on how to reproduce your results. That is, we want to be able to regenerate all your results with minimal effort. You can assume that the index and ground-truth information is present in the same file structure as the one we have provided.\n"
   ]
  },
  {
   "cell_type": "code",
   "execution_count": null,
   "metadata": {
    "collapsed": true
   },
   "outputs": [],
   "source": []
  }
 ],
 "metadata": {
  "anaconda-cloud": {},
  "kernelspec": {
   "display_name": "Python 3",
   "language": "python",
   "name": "python3"
  },
  "language_info": {
   "codemirror_mode": {
    "name": "ipython",
    "version": 3
   },
   "file_extension": ".py",
   "mimetype": "text/x-python",
   "name": "python",
   "nbconvert_exporter": "python",
   "pygments_lexer": "ipython3",
   "version": "3.6.3"
  }
 },
 "nbformat": 4,
 "nbformat_minor": 1
}
